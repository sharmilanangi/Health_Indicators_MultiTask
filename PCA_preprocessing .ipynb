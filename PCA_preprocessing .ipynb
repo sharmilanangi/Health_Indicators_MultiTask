{
 "cells": [
  {
   "cell_type": "code",
   "execution_count": 1,
   "id": "3ce8431d",
   "metadata": {},
   "outputs": [],
   "source": [
    "import numpy as np\n",
    "import pandas as pd\n",
    "import matplotlib.pyplot as plt\n",
    "from tqdm import tqdm\n",
    "import pickle\n",
    "\n",
    "import torch\n",
    "# import torch.nn as nn\n",
    "# import torch.nn.functional as F"
   ]
  },
  {
   "cell_type": "code",
   "execution_count": 2,
   "id": "5e07413a",
   "metadata": {},
   "outputs": [],
   "source": [
    "device = torch.device(\"cuda\" if torch.cuda.is_available() else \"cpu\")"
   ]
  },
  {
   "cell_type": "code",
   "execution_count": 3,
   "id": "ea5cb273",
   "metadata": {},
   "outputs": [],
   "source": [
    "with open(\"data/drop_cols.pickle\", \"rb\") as f:\n",
    "    drop = pickle.load(f)\n",
    "df_mean_std = pd.read_parquet(\"data/train_means_std.parquet.gzip\")"
   ]
  },
  {
   "cell_type": "code",
   "execution_count": 4,
   "id": "b235fd69",
   "metadata": {},
   "outputs": [],
   "source": [
    "split = \"train\"\n",
    "\n",
    "df = pd.read_parquet(f\"data/{split}_20221130.parquet.gzip\")\n",
    "df.drop(drop, errors='ignore', inplace=True, axis = 1)"
   ]
  },
  {
   "cell_type": "code",
   "execution_count": 5,
   "id": "67491d3d",
   "metadata": {},
   "outputs": [],
   "source": [
    "df = (df-df_mean_std[\"means\"])/df_mean_std[\"stds\"]\n",
    "df.fillna(value=0, inplace=True)"
   ]
  },
  {
   "cell_type": "code",
   "execution_count": 6,
   "id": "37a09ca9",
   "metadata": {},
   "outputs": [],
   "source": [
    "x_inp = torch.tensor(df.values, dtype=torch.float32)"
   ]
  },
  {
   "cell_type": "code",
   "execution_count": 38,
   "id": "19a4e6bc",
   "metadata": {},
   "outputs": [],
   "source": [
    "torch.save(x_proj, f'data/{split}_pca.pt')"
   ]
  },
  {
   "cell_type": "code",
   "execution_count": 9,
   "id": "1d0e8927",
   "metadata": {},
   "outputs": [],
   "source": [
    "pca = torch.pca_lowrank(x_inp, q=2048, center=True, niter=2)"
   ]
  },
  {
   "cell_type": "code",
   "execution_count": 15,
   "id": "34f19ca8",
   "metadata": {},
   "outputs": [
    {
     "data": {
      "text/plain": [
       "torch.Size([11333, 2048])"
      ]
     },
     "execution_count": 15,
     "metadata": {},
     "output_type": "execute_result"
    }
   ],
   "source": [
    "pca[2].shape"
   ]
  },
  {
   "cell_type": "code",
   "execution_count": null,
   "id": "86265959",
   "metadata": {},
   "outputs": [],
   "source": []
  }
 ],
 "metadata": {
  "kernelspec": {
   "display_name": "Python 3.8.10 64-bit",
   "language": "python",
   "name": "python3"
  },
  "language_info": {
   "codemirror_mode": {
    "name": "ipython",
    "version": 3
   },
   "file_extension": ".py",
   "mimetype": "text/x-python",
   "name": "python",
   "nbconvert_exporter": "python",
   "pygments_lexer": "ipython3",
   "version": "3.8.10"
  },
  "vscode": {
   "interpreter": {
    "hash": "31f2aee4e71d21fbe5cf8b01ff0e069b9275f58929596ceb00d14d90e3e16cd6"
   }
  }
 },
 "nbformat": 4,
 "nbformat_minor": 5
}
