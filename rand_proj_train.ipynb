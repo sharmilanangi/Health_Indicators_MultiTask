{
 "cells": [
  {
   "cell_type": "code",
   "execution_count": 1,
   "metadata": {},
   "outputs": [],
   "source": [
    "import datasets\n",
    "import numpy as np\n",
    "import pandas as pd\n",
    "import pickle\n",
    "\n",
    "import torch\n",
    "import torch.nn as nn\n",
    "import torch.nn.functional as F\n",
    "from torch.utils.data import DataLoader, TensorDataset\n",
    "import tqdm\n",
    "from torch.utils.tensorboard import SummaryWriter"
   ]
  },
  {
   "cell_type": "code",
   "execution_count": 2,
   "metadata": {},
   "outputs": [
    {
     "name": "stdout",
     "output_type": "stream",
     "text": [
      "DEVICE IS ...  cuda\n"
     ]
    }
   ],
   "source": [
    "device = torch.device(\"cuda\" if torch.cuda.is_available() else \"cpu\")\n",
    "print(\"DEVICE IS ... \", device)"
   ]
  },
  {
   "cell_type": "code",
   "execution_count": 14,
   "metadata": {},
   "outputs": [],
   "source": [
    "class MultiTaskNet(nn.Module):\n",
    "    def __init__(self, embed_dim=11348, layer_sizes=[2048, 500, 2048, 500]):\n",
    "        super().__init__()\n",
    "\n",
    "        self.embedding_dim = embed_dim\n",
    "\n",
    "        self.mlp_net = nn.Sequential(\n",
    "            nn.Linear(layer_sizes[0], layer_sizes[1]),  ## 96x64\n",
    "            nn.ReLU(),\n",
    "            nn.Linear(layer_sizes[1], layer_sizes[2]),  ## 64x1\n",
    "            nn.ReLU(),\n",
    "            nn.Linear(layer_sizes[2], layer_sizes[3]),\n",
    "        )\n",
    "\n",
    "        self.last_layer = nn.Linear(\n",
    "            layer_sizes[3], 1\n",
    "        )  ## change if we need classification or softmax\n",
    "\n",
    "    def forward(self, x):\n",
    "        x = self.mlp_net(x)\n",
    "\n",
    "        out_x = self.last_layer(x)\n",
    "\n",
    "        return out_x"
   ]
  },
  {
   "cell_type": "code",
   "execution_count": 7,
   "metadata": {},
   "outputs": [],
   "source": [
    "epochs = 20\n",
    "lr = 1e-4\n",
    "batch_size = 16\n"
   ]
  },
  {
   "cell_type": "code",
   "execution_count": 4,
   "metadata": {},
   "outputs": [],
   "source": [
    "with open(\"data/test_random_proj.pt\", \"rb\") as f:\n",
    "    dev = torch.load(f)\n",
    "\n",
    "dev_labels= pd.read_parquet(\"data/test_20221130.parquet.gzip\", columns=[\"Mean_BMI\", \"Under5_Mortality_Rate\"])"
   ]
  },
  {
   "cell_type": "code",
   "execution_count": 37,
   "metadata": {},
   "outputs": [],
   "source": [
    "def collator_fn(data):\n",
    "    x, y_df = data\n",
    "    x_inp = x.to(device)\n",
    "    y_bmi = torch.tensor(y_df[\"Mean_BMI\"].values, dtype=torch.float32, device=device)\n",
    "    y_cmr = torch.tensor(\n",
    "        y_df[\"Under5_Mortality_Rate\"].values, dtype=torch.float32, device=device\n",
    "    )\n",
    "    return x_inp, y_bmi, y_cmr\n",
    "\n",
    "# dataloader = DataLoader((dev,dev_labels), batch_size=1, collate_fn=collator_fn)"
   ]
  },
  {
   "cell_type": "code",
   "execution_count": 40,
   "metadata": {},
   "outputs": [],
   "source": [
    "dataloader = DataLoader(TensorDataset(*collator_fn((dev,dev_labels))), batch_size=1)"
   ]
  },
  {
   "cell_type": "code",
   "execution_count": 58,
   "metadata": {},
   "outputs": [],
   "source": [
    "for idx, batch in enumerate(dataloader):\n",
    "    x, y_bmi, y_cmr = batch\n",
    "    break"
   ]
  },
  {
   "cell_type": "code",
   "execution_count": 59,
   "metadata": {},
   "outputs": [
    {
     "data": {
      "text/plain": [
       "torch.Size([16])"
      ]
     },
     "execution_count": 59,
     "metadata": {},
     "output_type": "execute_result"
    }
   ],
   "source": [
    "y_bmi.shape"
   ]
  },
  {
   "cell_type": "code",
   "execution_count": 19,
   "metadata": {},
   "outputs": [],
   "source": [
    "def masked_mse(output, target):\n",
    "    mse_loss = nn.MSELoss()\n",
    "    mask = torch.isnan(target)\n",
    "    target = torch.where(mask, 0.0, target)\n",
    "    output = torch.where(mask, 0.0, output)\n",
    "    return mse_loss(target, output)\n",
    "\n",
    "def r2_loss(output, target):\n",
    "    target_mean = torch.nanmean(target)\n",
    "    ss_tot = torch.nansum(((target - target_mean)) ** 2)\n",
    "    ss_res = torch.nansum(((target - output)) ** 2)\n",
    "    r2 = 1 - ss_res / ss_tot\n",
    "    return r2"
   ]
  },
  {
   "cell_type": "code",
   "execution_count": 15,
   "metadata": {},
   "outputs": [
    {
     "name": "stdout",
     "output_type": "stream",
     "text": [
      "Model loading\n"
     ]
    }
   ],
   "source": [
    "print(\"Model loading\")\n",
    "model = MultiTaskNet().to(device)\n",
    "loss_fn = masked_mse\n",
    "optimizer = torch.optim.AdamW(model.parameters(), lr=lr)"
   ]
  },
  {
   "cell_type": "code",
   "execution_count": 17,
   "metadata": {},
   "outputs": [
    {
     "data": {
      "text/plain": [
       "<All keys matched successfully>"
      ]
     },
     "execution_count": 17,
     "metadata": {},
     "output_type": "execute_result"
    }
   ],
   "source": [
    "model.load_state_dict(torch.load(\"outputs/best_bmi.pth\")[\"model_state_dict\"])"
   ]
  },
  {
   "cell_type": "code",
   "execution_count": 42,
   "metadata": {},
   "outputs": [],
   "source": [
    "def evaluate_model(model, dataloader):\n",
    "    mse_loss = []\n",
    "    r2_losses = []\n",
    "\n",
    "    for idx, batch in enumerate(dataloader):\n",
    "        x, y_bmi, y_cmr = batch\n",
    "        with torch.no_grad():\n",
    "            outs = model(x).squeeze()\n",
    "            loss = loss_fn(outs, y_bmi)\n",
    "            r2_val_loss = r2_loss(outs, y_bmi)\n",
    "\n",
    "            if np.isnan(loss.item()):\n",
    "                print(idx ,outs, y_bmi)\n",
    "\n",
    "            mse_loss.append(loss.item())\n",
    "            r2_losses.append(r2_val_loss.item())\n",
    "    # print(np.sum())\n",
    "    mse_loss_avg = np.array(mse_loss).mean()\n",
    "    r2_losses_avg = np.array(r2_losses).mean()\n",
    "\n",
    "    return mse_loss_avg, r2_losses_avg"
   ]
  },
  {
   "cell_type": "code",
   "execution_count": 43,
   "metadata": {},
   "outputs": [
    {
     "name": "stdout",
     "output_type": "stream",
     "text": [
      "10324 tensor(nan, device='cuda:0') tensor([22.4700], device='cuda:0')\n",
      "10328 tensor(nan, device='cuda:0') tensor([23.5900], device='cuda:0')\n",
      "10330 tensor(nan, device='cuda:0') tensor([23.1000], device='cuda:0')\n",
      "10333 tensor(nan, device='cuda:0') tensor([24.1100], device='cuda:0')\n",
      "10358 tensor(nan, device='cuda:0') tensor([28.9500], device='cuda:0')\n",
      "10375 tensor(nan, device='cuda:0') tensor([23.2200], device='cuda:0')\n",
      "10376 tensor(nan, device='cuda:0') tensor([23.3700], device='cuda:0')\n",
      "10387 tensor(nan, device='cuda:0') tensor([28.4600], device='cuda:0')\n"
     ]
    },
    {
     "data": {
      "text/plain": [
       "(nan, nan)"
      ]
     },
     "execution_count": 43,
     "metadata": {},
     "output_type": "execute_result"
    }
   ],
   "source": [
    "evaluate_model(model, dataloader)"
   ]
  },
  {
   "cell_type": "code",
   "execution_count": 44,
   "metadata": {},
   "outputs": [
    {
     "data": {
      "text/plain": [
       "tensor([-inf, -inf, -inf,  ..., inf, -inf, inf])"
      ]
     },
     "execution_count": 44,
     "metadata": {},
     "output_type": "execute_result"
    }
   ],
   "source": [
    "dev[10324]"
   ]
  },
  {
   "cell_type": "code",
   "execution_count": 48,
   "metadata": {},
   "outputs": [],
   "source": [
    "with open(\"data/drop_cols.pickle\", \"rb\") as f:\n",
    "    drop = pickle.load(f)"
   ]
  },
  {
   "cell_type": "code",
   "execution_count": 45,
   "metadata": {},
   "outputs": [],
   "source": [
    "test_df = pd.read_parquet(\"data/test_20221130.parquet.gzip\")"
   ]
  },
  {
   "cell_type": "code",
   "execution_count": 49,
   "metadata": {},
   "outputs": [],
   "source": [
    "test_df.drop(drop, errors='ignore', inplace=True, axis = 1)"
   ]
  },
  {
   "cell_type": "code",
   "execution_count": 54,
   "metadata": {},
   "outputs": [],
   "source": [
    "df = test_df.iloc[10324]"
   ]
  },
  {
   "cell_type": "code",
   "execution_count": 52,
   "metadata": {},
   "outputs": [
    {
     "data": {
      "text/plain": [
       "Deep_Blue_Single_Scattering_Albedo_Land_Mean_Mean_412_median@MODIS/061/MOD08_M3&timestamped             NaN\n",
       "Deep_Blue_Single_Scattering_Albedo_Land_Std_Deviation_Mean_412_median@MODIS/061/MOD08_M3&timestamped    NaN\n",
       "Deep_Blue_Single_Scattering_Albedo_Land_Mean_Mean_412_mean@MODIS/061/MOD08_M3&timestamped               NaN\n",
       "Deep_Blue_Single_Scattering_Albedo_Land_Std_Deviation_Mean_412_mean@MODIS/061/MOD08_M3&timestamped      NaN\n",
       "Deep_Blue_Single_Scattering_Albedo_Land_Mean_Mean_412_max_max@MODIS/061/MOD08_M3&timestamped            NaN\n",
       "Deep_Blue_Single_Scattering_Albedo_Land_Mean_Mean_412_max_min@MODIS/061/MOD08_M3&timestamped            NaN\n",
       "Deep_Blue_Single_Scattering_Albedo_Land_Mean_Mean_412_min_max@MODIS/061/MOD08_M3&timestamped            NaN\n",
       "Deep_Blue_Single_Scattering_Albedo_Land_Mean_Mean_412_min_min@MODIS/061/MOD08_M3&timestamped            NaN\n",
       "Deep_Blue_Single_Scattering_Albedo_Land_Std_Deviation_Mean_412_max_max@MODIS/061/MOD08_M3&timestamped   NaN\n",
       "Deep_Blue_Single_Scattering_Albedo_Land_Std_Deviation_Mean_412_max_min@MODIS/061/MOD08_M3&timestamped   NaN\n",
       "Deep_Blue_Single_Scattering_Albedo_Land_Std_Deviation_Mean_412_min_max@MODIS/061/MOD08_M3&timestamped   NaN\n",
       "Deep_Blue_Single_Scattering_Albedo_Land_Std_Deviation_Mean_412_min_min@MODIS/061/MOD08_M3&timestamped   NaN\n",
       "Name: (PK, 104080), dtype: float64"
      ]
     },
     "execution_count": 52,
     "metadata": {},
     "output_type": "execute_result"
    }
   ],
   "source": [
    "tmp[tmp.isna()]"
   ]
  },
  {
   "cell_type": "code",
   "execution_count": 53,
   "metadata": {},
   "outputs": [],
   "source": [
    "df_mean_std = pd.read_parquet(\"data/train_means_std.parquet.gzip\")"
   ]
  },
  {
   "cell_type": "code",
   "execution_count": 55,
   "metadata": {},
   "outputs": [],
   "source": [
    "df_norm = (df-df_mean_std[\"means\"])/df_mean_std[\"stds\"]"
   ]
  },
  {
   "cell_type": "code",
   "execution_count": 79,
   "metadata": {},
   "outputs": [
    {
     "data": {
      "text/plain": [
       "0.0"
      ]
     },
     "execution_count": 79,
     "metadata": {},
     "output_type": "execute_result"
    }
   ],
   "source": [
    "df_mean_std[\"stds\"][11305]"
   ]
  },
  {
   "cell_type": "code",
   "execution_count": 78,
   "metadata": {},
   "outputs": [
    {
     "data": {
      "text/plain": [
       "0.0"
      ]
     },
     "execution_count": 78,
     "metadata": {},
     "output_type": "execute_result"
    }
   ],
   "source": [
    "df[11305]"
   ]
  },
  {
   "cell_type": "code",
   "execution_count": 77,
   "metadata": {},
   "outputs": [
    {
     "data": {
      "text/plain": [
       "-inf"
      ]
     },
     "execution_count": 77,
     "metadata": {},
     "output_type": "execute_result"
    }
   ],
   "source": [
    "df_norm[11305]"
   ]
  },
  {
   "cell_type": "code",
   "execution_count": 62,
   "metadata": {},
   "outputs": [],
   "source": [
    "df_norm.fillna(value=0, inplace=True)\n",
    "x_inp = torch.tensor(df_norm.values, dtype=torch.float32)"
   ]
  },
  {
   "cell_type": "code",
   "execution_count": 76,
   "metadata": {},
   "outputs": [
    {
     "data": {
      "text/plain": [
       "tensor(-inf)"
      ]
     },
     "execution_count": 76,
     "metadata": {},
     "output_type": "execute_result"
    }
   ],
   "source": [
    "x_inp[11305]"
   ]
  },
  {
   "cell_type": "code",
   "execution_count": 57,
   "metadata": {},
   "outputs": [],
   "source": [
    "with open(\"data/rand_proj.pt\", \"rb\") as f:\n",
    "    rand_proj = torch.load(f)\n"
   ]
  },
  {
   "cell_type": "code",
   "execution_count": 75,
   "metadata": {},
   "outputs": [
    {
     "data": {
      "text/plain": [
       "tensor(11305)"
      ]
     },
     "execution_count": 75,
     "metadata": {},
     "output_type": "execute_result"
    }
   ],
   "source": [
    "torch.argmin(x_inp)"
   ]
  },
  {
   "cell_type": "code",
   "execution_count": 63,
   "metadata": {},
   "outputs": [],
   "source": [
    "x_proj = x_inp @ rand_proj"
   ]
  },
  {
   "cell_type": "code",
   "execution_count": 64,
   "metadata": {},
   "outputs": [
    {
     "data": {
      "text/plain": [
       "tensor([-inf, -inf, -inf,  ..., inf, -inf, inf])"
      ]
     },
     "execution_count": 64,
     "metadata": {},
     "output_type": "execute_result"
    }
   ],
   "source": [
    "x_proj"
   ]
  },
  {
   "cell_type": "code",
   "execution_count": 60,
   "metadata": {},
   "outputs": [
    {
     "data": {
      "text/plain": [
       "tensor([[ 0.0118,  0.0084, -0.0104,  ...,  0.0082, -0.0079, -0.0010],\n",
       "        [-0.0092,  0.0034, -0.0022,  ..., -0.0015, -0.0187,  0.0070],\n",
       "        [ 0.0083,  0.0114, -0.0076,  ...,  0.0016, -0.0196,  0.0105],\n",
       "        ...,\n",
       "        [ 0.0082,  0.0071,  0.0028,  ...,  0.0110, -0.0117,  0.0114],\n",
       "        [ 0.0026, -0.0003,  0.0116,  ..., -0.0170,  0.0168,  0.0071],\n",
       "        [-0.0044, -0.0087,  0.0202,  ..., -0.0058, -0.0088, -0.0183]])"
      ]
     },
     "execution_count": 60,
     "metadata": {},
     "output_type": "execute_result"
    }
   ],
   "source": [
    "rand_proj"
   ]
  },
  {
   "cell_type": "code",
   "execution_count": null,
   "metadata": {},
   "outputs": [],
   "source": []
  }
 ],
 "metadata": {
  "kernelspec": {
   "display_name": "Python 3.8.10 64-bit",
   "language": "python",
   "name": "python3"
  },
  "language_info": {
   "codemirror_mode": {
    "name": "ipython",
    "version": 3
   },
   "file_extension": ".py",
   "mimetype": "text/x-python",
   "name": "python",
   "nbconvert_exporter": "python",
   "pygments_lexer": "ipython3",
   "version": "3.8.10"
  },
  "vscode": {
   "interpreter": {
    "hash": "31f2aee4e71d21fbe5cf8b01ff0e069b9275f58929596ceb00d14d90e3e16cd6"
   }
  }
 },
 "nbformat": 4,
 "nbformat_minor": 2
}
