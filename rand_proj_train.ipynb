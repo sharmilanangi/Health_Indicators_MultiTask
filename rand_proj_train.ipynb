{
 "cells": [
  {
   "cell_type": "code",
   "execution_count": 1,
   "metadata": {},
   "outputs": [],
   "source": [
    "import datasets\n",
    "import numpy as np\n",
    "import pandas as pd\n",
    "import pickle\n",
    "\n",
    "import torch\n",
    "import torch.nn as nn\n",
    "import torch.nn.functional as F\n",
    "from torch.utils.data import DataLoader\n",
    "import tqdm\n",
    "from torch.utils.tensorboard import SummaryWriter"
   ]
  },
  {
   "cell_type": "code",
   "execution_count": 2,
   "metadata": {},
   "outputs": [
    {
     "name": "stdout",
     "output_type": "stream",
     "text": [
      "DEVICE IS ...  cuda\n"
     ]
    }
   ],
   "source": [
    "device = torch.device(\"cuda\" if torch.cuda.is_available() else \"cpu\")\n",
    "print(\"DEVICE IS ... \", device)"
   ]
  },
  {
   "cell_type": "code",
   "execution_count": 13,
   "metadata": {},
   "outputs": [],
   "source": [
    "class MultiTaskNet(nn.Module):\n",
    "    def __init__(\n",
    "        self, embed_dim=11348, layer_sizes=[2048, 500, 2048, 500]\n",
    "    ):\n",
    "        super().__init__()\n",
    "\n",
    "        self.embedding_dim = embed_dim\n",
    "\n",
    "        self.mlp_net = nn.Sequential(\n",
    "            nn.Linear(layer_sizes[0], layer_sizes[1]),  ## 96x64\n",
    "            nn.ReLU(),\n",
    "            nn.Linear(layer_sizes[1], layer_sizes[2]),  ## 64x1\n",
    "            nn.ReLU(),\n",
    "            nn.Linear(layer_sizes[2], layer_sizes[3]),\n",
    "        )\n",
    "\n",
    "        self.last_layer = nn.Linear(\n",
    "            layer_sizes[3], 1\n",
    "        )  ## change if we need classification or softmax\n",
    "\n",
    "    def forward(self, x):\n",
    "        x = self.mlp_net(x)\n",
    "\n",
    "        out_x = self.last_layer(x)\n",
    "\n",
    "        return out_x"
   ]
  },
  {
   "cell_type": "code",
   "execution_count": 8,
   "metadata": {},
   "outputs": [],
   "source": [
    "epochs = 20\n",
    "lr = 1e-4\n",
    "batch_size = 16\n"
   ]
  },
  {
   "cell_type": "code",
   "execution_count": 7,
   "metadata": {},
   "outputs": [],
   "source": [
    "with open(\"data/dev_random_proj.pt\", \"rb\") as f:\n",
    "    dev = torch.load(f)\n",
    "\n",
    "dev_labels= pd.read_parquet(\"data/dev_20221130.parquet.gzip\", columns=[\"Mean_BMI\", \"Under5_Mortality_Rate\"])"
   ]
  },
  {
   "cell_type": "code",
   "execution_count": 9,
   "metadata": {},
   "outputs": [],
   "source": [
    "def collator_fn(data):\n",
    "    x, y_df = data\n",
    "    x_inp = x.to(device)\n",
    "    y_bmi = torch.tensor(y_df[\"Mean_BMI\"].values, dtype=torch.float32, device=device)\n",
    "    y_cmr = torch.tensor(\n",
    "        y_df[\"Under5_Mortality_Rate\"].values, dtype=torch.float32, device=device\n",
    "    )\n",
    "    return x_inp, y_bmi, y_cmr\n",
    "\n",
    "tmp = DataLoader((dev,dev_labels), batch_size=batch_size, collate_fn=collator_fn)"
   ]
  },
  {
   "cell_type": "code",
   "execution_count": 10,
   "metadata": {},
   "outputs": [
    {
     "ename": "TypeError",
     "evalue": "'DataLoader' object is not subscriptable",
     "output_type": "error",
     "traceback": [
      "\u001b[0;31m---------------------------------------------------------------------------\u001b[0m",
      "\u001b[0;31mTypeError\u001b[0m                                 Traceback (most recent call last)",
      "Cell \u001b[0;32mIn [10], line 1\u001b[0m\n\u001b[0;32m----> 1\u001b[0m tmp[\u001b[39m0\u001b[39;49m]\n",
      "\u001b[0;31mTypeError\u001b[0m: 'DataLoader' object is not subscriptable"
     ]
    }
   ],
   "source": [
    "tmp[0]"
   ]
  },
  {
   "cell_type": "code",
   "execution_count": 14,
   "metadata": {},
   "outputs": [
    {
     "name": "stdout",
     "output_type": "stream",
     "text": [
      "Model loading\n"
     ]
    }
   ],
   "source": [
    "print(\"Model loading\")\n",
    "model = MultiTaskNet().to(device)\n",
    "loss_fn = nn.MSELoss()\n",
    "optimizer = torch.optim.AdamW(model.parameters(), lr=lr)"
   ]
  },
  {
   "cell_type": "code",
   "execution_count": 15,
   "metadata": {},
   "outputs": [
    {
     "data": {
      "text/plain": [
       "torch.Size([12100, 2048])"
      ]
     },
     "execution_count": 15,
     "metadata": {},
     "output_type": "execute_result"
    }
   ],
   "source": [
    "dev.shape"
   ]
  },
  {
   "cell_type": "code",
   "execution_count": 11,
   "metadata": {},
   "outputs": [],
   "source": [
    "def masked_mse(output, target):\n",
    "    mse_loss = nn.MSELoss()\n",
    "    mask = torch.isnan(target)\n",
    "    target = torch.where(mask, 0.0, target)\n",
    "    output = torch.where(mask, 0.0, output)\n",
    "    return mse_loss(target, output)"
   ]
  },
  {
   "cell_type": "code",
   "execution_count": 36,
   "metadata": {},
   "outputs": [],
   "source": [
    "def r2_loss(output, target):\n",
    "    \n",
    "    \n",
    "    target_mean = torch.nanmean(target)\n",
    "    ss_tot = torch.nansum(((target - target_mean)) ** 2)\n",
    "    ss_res = torch.nansum(((target - output)) ** 2)\n",
    "    r2 = 1 - ss_res / ss_tot\n",
    "    return r2"
   ]
  },
  {
   "cell_type": "code",
   "execution_count": 12,
   "metadata": {},
   "outputs": [],
   "source": [
    "a = torch.tensor([1.,2.,3.,4.,10.])\n",
    "b = torch.tensor([1.,2.,float('nan'),4.,5.])"
   ]
  },
  {
   "cell_type": "code",
   "execution_count": 13,
   "metadata": {},
   "outputs": [
    {
     "data": {
      "text/plain": [
       "tensor(5.)"
      ]
     },
     "execution_count": 13,
     "metadata": {},
     "output_type": "execute_result"
    }
   ],
   "source": [
    "masked_mse(a, b)"
   ]
  },
  {
   "cell_type": "code",
   "execution_count": 3,
   "metadata": {},
   "outputs": [],
   "source": [
    "dev_labels = pd.read_parquet(\n",
    "    \"data/dev_20221130.parquet.gzip\", columns=[\"Mean_BMI\", \"Under5_Mortality_Rate\"]\n",
    ")"
   ]
  },
  {
   "cell_type": "code",
   "execution_count": 4,
   "metadata": {},
   "outputs": [
    {
     "data": {
      "text/html": [
       "<div>\n",
       "<style scoped>\n",
       "    .dataframe tbody tr th:only-of-type {\n",
       "        vertical-align: middle;\n",
       "    }\n",
       "\n",
       "    .dataframe tbody tr th {\n",
       "        vertical-align: top;\n",
       "    }\n",
       "\n",
       "    .dataframe thead th {\n",
       "        text-align: right;\n",
       "    }\n",
       "</style>\n",
       "<table border=\"1\" class=\"dataframe\">\n",
       "  <thead>\n",
       "    <tr style=\"text-align: right;\">\n",
       "      <th></th>\n",
       "      <th></th>\n",
       "      <th>Mean_BMI</th>\n",
       "      <th>Under5_Mortality_Rate</th>\n",
       "    </tr>\n",
       "    <tr>\n",
       "      <th>key1</th>\n",
       "      <th></th>\n",
       "      <th></th>\n",
       "      <th></th>\n",
       "    </tr>\n",
       "  </thead>\n",
       "  <tbody>\n",
       "    <tr>\n",
       "      <th>PH</th>\n",
       "      <th>101293</th>\n",
       "      <td>NaN</td>\n",
       "      <td>0.00</td>\n",
       "    </tr>\n",
       "    <tr>\n",
       "      <th>PE</th>\n",
       "      <th>98708</th>\n",
       "      <td>24.91</td>\n",
       "      <td>7.89</td>\n",
       "    </tr>\n",
       "    <tr>\n",
       "      <th>GH</th>\n",
       "      <th>34990</th>\n",
       "      <td>NaN</td>\n",
       "      <td>NaN</td>\n",
       "    </tr>\n",
       "    <tr>\n",
       "      <th>ML</th>\n",
       "      <th>81759</th>\n",
       "      <td>19.89</td>\n",
       "      <td>8.49</td>\n",
       "    </tr>\n",
       "    <tr>\n",
       "      <th>LS</th>\n",
       "      <th>78953</th>\n",
       "      <td>23.90</td>\n",
       "      <td>12.20</td>\n",
       "    </tr>\n",
       "    <tr>\n",
       "      <th>...</th>\n",
       "      <th>...</th>\n",
       "      <td>...</td>\n",
       "      <td>...</td>\n",
       "    </tr>\n",
       "    <tr>\n",
       "      <th>ZM</th>\n",
       "      <th>118281</th>\n",
       "      <td>24.89</td>\n",
       "      <td>12.12</td>\n",
       "    </tr>\n",
       "    <tr>\n",
       "      <th>BF</th>\n",
       "      <th>6497</th>\n",
       "      <td>18.85</td>\n",
       "      <td>24.42</td>\n",
       "    </tr>\n",
       "    <tr>\n",
       "      <th>PE</th>\n",
       "      <th>96202</th>\n",
       "      <td>NaN</td>\n",
       "      <td>NaN</td>\n",
       "    </tr>\n",
       "    <tr>\n",
       "      <th>CO</th>\n",
       "      <th>16927</th>\n",
       "      <td>24.20</td>\n",
       "      <td>7.41</td>\n",
       "    </tr>\n",
       "    <tr>\n",
       "      <th>EG</th>\n",
       "      <th>23025</th>\n",
       "      <td>NaN</td>\n",
       "      <td>7.41</td>\n",
       "    </tr>\n",
       "  </tbody>\n",
       "</table>\n",
       "<p>12100 rows × 2 columns</p>\n",
       "</div>"
      ],
      "text/plain": [
       "             Mean_BMI  Under5_Mortality_Rate\n",
       "key1                                        \n",
       "PH   101293       NaN                   0.00\n",
       "PE   98708      24.91                   7.89\n",
       "GH   34990        NaN                    NaN\n",
       "ML   81759      19.89                   8.49\n",
       "LS   78953      23.90                  12.20\n",
       "...               ...                    ...\n",
       "ZM   118281     24.89                  12.12\n",
       "BF   6497       18.85                  24.42\n",
       "PE   96202        NaN                    NaN\n",
       "CO   16927      24.20                   7.41\n",
       "EG   23025        NaN                   7.41\n",
       "\n",
       "[12100 rows x 2 columns]"
      ]
     },
     "execution_count": 4,
     "metadata": {},
     "output_type": "execute_result"
    }
   ],
   "source": [
    "dev_labels"
   ]
  },
  {
   "cell_type": "code",
   "execution_count": null,
   "metadata": {},
   "outputs": [],
   "source": []
  }
 ],
 "metadata": {
  "kernelspec": {
   "display_name": "Python 3 (ipykernel)",
   "language": "python",
   "name": "python3"
  },
  "language_info": {
   "codemirror_mode": {
    "name": "ipython",
    "version": 3
   },
   "file_extension": ".py",
   "mimetype": "text/x-python",
   "name": "python",
   "nbconvert_exporter": "python",
   "pygments_lexer": "ipython3",
   "version": "3.8.10"
  },
  "vscode": {
   "interpreter": {
    "hash": "203dd7d81855606d4495c07f8242344f31ea633c4c4291aba698e950bde37c67"
   }
  }
 },
 "nbformat": 4,
 "nbformat_minor": 2
}
