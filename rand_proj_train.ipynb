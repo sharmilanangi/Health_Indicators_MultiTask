{
 "cells": [
  {
   "cell_type": "code",
   "execution_count": 16,
   "metadata": {},
   "outputs": [],
   "source": [
    "import datasets\n",
    "import numpy as np\n",
    "import pandas as pd\n",
    "import pickle\n",
    "\n",
    "import torch\n",
    "import torch.nn as nn\n",
    "import torch.nn.functional as F\n",
    "from torch.utils.data import DataLoader\n",
    "import tqdm\n",
    "from torch.utils.tensorboard import SummaryWriter"
   ]
  },
  {
   "cell_type": "code",
   "execution_count": 2,
   "metadata": {},
   "outputs": [
    {
     "name": "stdout",
     "output_type": "stream",
     "text": [
      "DEVICE IS ...  cpu\n"
     ]
    }
   ],
   "source": [
    "device = torch.device(\"cuda\" if torch.cuda.is_available() else \"cpu\")\n",
    "print(\"DEVICE IS ... \", device)"
   ]
  },
  {
   "cell_type": "code",
   "execution_count": 13,
   "metadata": {},
   "outputs": [],
   "source": [
    "class MultiTaskNet(nn.Module):\n",
    "    def __init__(\n",
    "        self, embed_dim=11348, layer_sizes=[2048, 500, 2048, 500]\n",
    "    ):\n",
    "        super().__init__()\n",
    "\n",
    "        self.embedding_dim = embed_dim\n",
    "\n",
    "        self.mlp_net = nn.Sequential(\n",
    "            nn.Linear(layer_sizes[0], layer_sizes[1]),  ## 96x64\n",
    "            nn.ReLU(),\n",
    "            nn.Linear(layer_sizes[1], layer_sizes[2]),  ## 64x1\n",
    "            nn.ReLU(),\n",
    "            nn.Linear(layer_sizes[2], layer_sizes[3]),\n",
    "        )\n",
    "\n",
    "        self.last_layer = nn.Linear(\n",
    "            layer_sizes[3], 1\n",
    "        )  ## change if we need classification or softmax\n",
    "\n",
    "    def forward(self, x):\n",
    "        x = self.mlp_net(x)\n",
    "\n",
    "        out_x = self.last_layer(x)\n",
    "\n",
    "        return out_x"
   ]
  },
  {
   "cell_type": "code",
   "execution_count": 8,
   "metadata": {},
   "outputs": [],
   "source": [
    "epochs = 20\n",
    "lr = 1e-4\n",
    "batch_size = 16\n"
   ]
  },
  {
   "cell_type": "code",
   "execution_count": 7,
   "metadata": {},
   "outputs": [],
   "source": [
    "with open(\"data/dev_random_proj.pt\", \"rb\") as f:\n",
    "    dev = torch.load(f)\n",
    "\n",
    "dev_labels= pd.read_parquet(\"data/dev_20221130.parquet.gzip\", columns=[\"Mean_BMI\", \"Under5_Mortality_Rate\"])"
   ]
  },
  {
   "cell_type": "code",
   "execution_count": 9,
   "metadata": {},
   "outputs": [],
   "source": [
    "def collator_fn(data):\n",
    "    x, y_df = data\n",
    "    x_inp = x.to(device)\n",
    "    y_bmi = torch.tensor(y_df[\"Mean_BMI\"].values, dtype=torch.float32, device=device)\n",
    "    y_cmr = torch.tensor(\n",
    "        y_df[\"Under5_Mortality_Rate\"].values, dtype=torch.float32, device=device\n",
    "    )\n",
    "    return x_inp, y_bmi, y_cmr\n",
    "\n",
    "tmp = DataLoader((dev,dev_labels), batch_size=batch_size, collate_fn=collator_fn)"
   ]
  },
  {
   "cell_type": "code",
   "execution_count": 10,
   "metadata": {},
   "outputs": [
    {
     "ename": "TypeError",
     "evalue": "'DataLoader' object is not subscriptable",
     "output_type": "error",
     "traceback": [
      "\u001b[0;31m---------------------------------------------------------------------------\u001b[0m",
      "\u001b[0;31mTypeError\u001b[0m                                 Traceback (most recent call last)",
      "Cell \u001b[0;32mIn [10], line 1\u001b[0m\n\u001b[0;32m----> 1\u001b[0m tmp[\u001b[39m0\u001b[39;49m]\n",
      "\u001b[0;31mTypeError\u001b[0m: 'DataLoader' object is not subscriptable"
     ]
    }
   ],
   "source": [
    "tmp[0]"
   ]
  },
  {
   "cell_type": "code",
   "execution_count": 14,
   "metadata": {},
   "outputs": [
    {
     "name": "stdout",
     "output_type": "stream",
     "text": [
      "Model loading\n"
     ]
    }
   ],
   "source": [
    "print(\"Model loading\")\n",
    "model = MultiTaskNet().to(device)\n",
    "loss_fn = nn.MSELoss()\n",
    "optimizer = torch.optim.AdamW(model.parameters(), lr=lr)"
   ]
  },
  {
   "cell_type": "code",
   "execution_count": 15,
   "metadata": {},
   "outputs": [
    {
     "data": {
      "text/plain": [
       "torch.Size([12100, 2048])"
      ]
     },
     "execution_count": 15,
     "metadata": {},
     "output_type": "execute_result"
    }
   ],
   "source": [
    "dev.shape"
   ]
  },
  {
   "cell_type": "code",
   "execution_count": 27,
   "metadata": {},
   "outputs": [],
   "source": [
    "def masked_mse(output, target):\n",
    "    mse_loss = nn.MSELoss(reduction=\"none\")\n",
    "    mask = ~target.isnan()\n",
    "    mask = mask.float()\n",
    "    loss = mse_loss(output, target)\n",
    "    loss = (loss).nansum()  # gives \\sigma_euclidean over unmasked elements\n",
    "    return loss / torch.sum(mask)"
   ]
  },
  {
   "cell_type": "code",
   "execution_count": 28,
   "metadata": {},
   "outputs": [],
   "source": [
    "a = torch.tensor([1.,2.,3.,4.,5.])\n",
    "b = torch.tensor([1.,2.,float('nan'),4.,5.])"
   ]
  },
  {
   "cell_type": "code",
   "execution_count": 26,
   "metadata": {},
   "outputs": [
    {
     "data": {
      "text/plain": [
       "tensor(1.)"
      ]
     },
     "execution_count": 26,
     "metadata": {},
     "output_type": "execute_result"
    }
   ],
   "source": [
    "masked_mse(a, b)"
   ]
  },
  {
   "cell_type": "code",
   "execution_count": null,
   "metadata": {},
   "outputs": [],
   "source": []
  }
 ],
 "metadata": {
  "kernelspec": {
   "display_name": "Python 3.10.7 ('.venv': venv)",
   "language": "python",
   "name": "python3"
  },
  "language_info": {
   "codemirror_mode": {
    "name": "ipython",
    "version": 3
   },
   "file_extension": ".py",
   "mimetype": "text/x-python",
   "name": "python",
   "nbconvert_exporter": "python",
   "pygments_lexer": "ipython3",
   "version": "3.10.7"
  },
  "orig_nbformat": 4,
  "vscode": {
   "interpreter": {
    "hash": "203dd7d81855606d4495c07f8242344f31ea633c4c4291aba698e950bde37c67"
   }
  }
 },
 "nbformat": 4,
 "nbformat_minor": 2
}
