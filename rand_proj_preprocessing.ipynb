{
 "cells": [
  {
   "cell_type": "code",
   "execution_count": 3,
   "id": "3ce8431d",
   "metadata": {},
   "outputs": [],
   "source": [
    "import numpy as np\n",
    "import pandas as pd\n",
    "import matplotlib.pyplot as plt\n",
    "from tqdm import tqdm\n",
    "import pickle\n",
    "\n",
    "import torch\n",
    "# import torch.nn as nn\n",
    "# import torch.nn.functional as F"
   ]
  },
  {
   "cell_type": "code",
   "execution_count": 39,
   "id": "5e07413a",
   "metadata": {},
   "outputs": [],
   "source": [
    "device = torch.device(\"cuda\" if torch.cuda.is_available() else \"cpu\")"
   ]
  },
  {
   "cell_type": "code",
   "execution_count": 19,
   "id": "ea5cb273",
   "metadata": {},
   "outputs": [],
   "source": [
    "with open(\"data/drop_cols.pickle\", \"rb\") as f:\n",
    "    drop = pickle.load(f)\n",
    "df_mean_std = pd.read_parquet(\"data/train_means_std.parquet.gzip\")"
   ]
  },
  {
   "cell_type": "code",
   "execution_count": 36,
   "id": "1fc127ca",
   "metadata": {},
   "outputs": [],
   "source": [
    "split = \"dev\""
   ]
  },
  {
   "cell_type": "code",
   "execution_count": 37,
   "id": "b235fd69",
   "metadata": {},
   "outputs": [],
   "source": [
    "df = pd.read_parquet(f\"data/{split}_20221130.parquet.gzip\")\n",
    "df.drop(drop, errors='ignore', inplace=True, axis = 1)"
   ]
  },
  {
   "cell_type": "code",
   "execution_count": 38,
   "id": "67491d3d",
   "metadata": {},
   "outputs": [],
   "source": [
    "df = (df-df_mean_std[\"means\"])/df_mean_std[\"stds\"]\n",
    "df.fillna(value=0, inplace=True)"
   ]
  },
  {
   "cell_type": "code",
   "execution_count": 39,
   "id": "c744b7a3",
   "metadata": {},
   "outputs": [],
   "source": [
    "x_inp = torch.tensor(df.values, dtype=torch.float32)"
   ]
  },
  {
   "cell_type": "code",
   "execution_count": 40,
   "id": "13cd0615",
   "metadata": {},
   "outputs": [],
   "source": [
    "# with open(\"data/rand_proj.pt\", \"rb\") as f:\n",
    "#     rand_proj = torch.load(f)\n",
    "\n",
    "SIZE = 1024\n",
    "with open(f\"data/rand_proj_{SIZE}.pt\", \"rb\") as f:\n",
    "    rand_proj = torch.load(f)\n"
   ]
  },
  {
   "cell_type": "code",
   "execution_count": 41,
   "id": "37a09ca9",
   "metadata": {},
   "outputs": [],
   "source": [
    "x_proj = x_inp @ rand_proj"
   ]
  },
  {
   "cell_type": "code",
   "execution_count": 42,
   "id": "19a4e6bc",
   "metadata": {},
   "outputs": [],
   "source": [
    "torch.save(x_proj, f'data/{split}_random_proj_{SIZE}.pt')"
   ]
  },
  {
   "cell_type": "code",
   "execution_count": null,
   "id": "25ccca68",
   "metadata": {},
   "outputs": [],
   "source": []
  },
  {
   "cell_type": "code",
   "execution_count": null,
   "id": "1d0e8927",
   "metadata": {},
   "outputs": [],
   "source": []
  }
 ],
 "metadata": {
  "kernelspec": {
   "display_name": "Python 3.8.10 64-bit",
   "language": "python",
   "name": "python3"
  },
  "language_info": {
   "codemirror_mode": {
    "name": "ipython",
    "version": 3
   },
   "file_extension": ".py",
   "mimetype": "text/x-python",
   "name": "python",
   "nbconvert_exporter": "python",
   "pygments_lexer": "ipython3",
   "version": "3.8.10"
  },
  "vscode": {
   "interpreter": {
    "hash": "31f2aee4e71d21fbe5cf8b01ff0e069b9275f58929596ceb00d14d90e3e16cd6"
   }
  }
 },
 "nbformat": 4,
 "nbformat_minor": 5
}
