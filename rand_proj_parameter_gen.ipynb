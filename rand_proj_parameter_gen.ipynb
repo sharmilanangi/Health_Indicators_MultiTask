{
 "cells": [
  {
   "cell_type": "markdown",
   "metadata": {},
   "source": [
    "# Generates parameter for random projection models"
   ]
  },
  {
   "cell_type": "code",
   "execution_count": 3,
   "metadata": {},
   "outputs": [],
   "source": [
    "import numpy as np\n",
    "import pandas as pd\n",
    "import matplotlib.pyplot as plt\n",
    "from tqdm import tqdm\n",
    "import pickle\n",
    "\n",
    "import torch\n",
    "import torch.nn as nn\n",
    "import torch.nn.functional as F"
   ]
  },
  {
   "cell_type": "code",
   "execution_count": 4,
   "metadata": {},
   "outputs": [],
   "source": [
    "train_df = pd.read_parquet(\"train_20221130.parquet.gzip\")"
   ]
  },
  {
   "cell_type": "code",
   "execution_count": 5,
   "metadata": {},
   "outputs": [],
   "source": [
    "non_pred_cols = [\n",
    "    \"new_ind\",\n",
    "    \"index\",\n",
    "    \"ADM1DHS\",\n",
    "    \"ADM1FIPS\",\n",
    "    \"ADM1FIPSNA\",\n",
    "    \"ADM1NAME\",\n",
    "    \"ADM1SALBCO\",\n",
    "    \"ADM1SALBNA\",\n",
    "    \"ADM1SALNA\",\n",
    "    \"ALT_DEM\",\n",
    "    \"ALT_GPS\",\n",
    "    \"CCFIPS\",\n",
    "    \"DATUM\",\n",
    "    \"DHSCC\",\n",
    "    \"DHSCLUST\",\n",
    "    \"DHSID\",\n",
    "    \"DHSREGCO\",\n",
    "    \"DHSREGNA\",\n",
    "    \"DHSYEAR\",\n",
    "    \"F21\",\n",
    "    \"F22\",\n",
    "    \"F23\",\n",
    "    \"LATNUM\",\n",
    "    \"LONGNUM\",\n",
    "    \"SOURCE\",\n",
    "    \"URBAN_RURA\",\n",
    "    \"ZONECO\",\n",
    "    \"ZONENA\",\n",
    "]\n",
    "other_keys = [\n",
    "    \"Mean_BMI\",\n",
    "    \"Under5_Mortality_Rate\",\n",
    "    \"Stunted_Rate\",\n",
    "    \"new_ind\",\n",
    "    \"key1\",\n",
    "    \"key2\",\n",
    "    \"key3\",\n",
    "    \"DATUM\",\n",
    "    \"DHSCC\",\n",
    "    \"DHSID_x\",\n",
    "    \"DHSREGNA\",\n",
    "    \"SOURCE\",\n",
    "    \"URBAN_RURA_x\",\n",
    "    \"CCFIPS\",\n",
    "    \"DHSID_y\",\n",
    "    \"URBAN_RURA_y\",\n",
    "    \"ADM1NAME\",\n",
    "]"
   ]
  },
  {
   "cell_type": "code",
   "execution_count": 6,
   "metadata": {},
   "outputs": [],
   "source": [
    "na = train_df.isna().mean()\n",
    "na = na.sort_values()\n",
    "drop_cols = na[na >= 0.53].keys()"
   ]
  },
  {
   "cell_type": "code",
   "execution_count": 9,
   "metadata": {},
   "outputs": [],
   "source": [
    "drop = set(non_pred_cols+other_keys).union(drop_cols)\n",
    "train_df.drop(drop, errors='ignore', inplace=True, axis = 1)"
   ]
  },
  {
   "cell_type": "code",
   "execution_count": 10,
   "metadata": {},
   "outputs": [],
   "source": [
    "pickle.dump(drop, open(\"drop_cols.pickle\", \"wb\"))"
   ]
  },
  {
   "cell_type": "code",
   "execution_count": 12,
   "metadata": {},
   "outputs": [],
   "source": [
    "means = train_df.mean()\n",
    "stds = train_df.std()"
   ]
  },
  {
   "cell_type": "code",
   "execution_count": 13,
   "metadata": {},
   "outputs": [],
   "source": [
    "df_mean_std = pd.DataFrame()\n",
    "df_mean_std[\"means\"] = means\n",
    "df_mean_std[\"stds\"] = stds"
   ]
  },
  {
   "cell_type": "code",
   "execution_count": 14,
   "metadata": {},
   "outputs": [
    {
     "data": {
      "text/html": [
       "<div>\n",
       "<style scoped>\n",
       "    .dataframe tbody tr th:only-of-type {\n",
       "        vertical-align: middle;\n",
       "    }\n",
       "\n",
       "    .dataframe tbody tr th {\n",
       "        vertical-align: top;\n",
       "    }\n",
       "\n",
       "    .dataframe thead th {\n",
       "        text-align: right;\n",
       "    }\n",
       "</style>\n",
       "<table border=\"1\" class=\"dataframe\">\n",
       "  <thead>\n",
       "    <tr style=\"text-align: right;\">\n",
       "      <th></th>\n",
       "      <th>means</th>\n",
       "      <th>stds</th>\n",
       "    </tr>\n",
       "  </thead>\n",
       "  <tbody>\n",
       "    <tr>\n",
       "      <th>DHSCLUST_x</th>\n",
       "      <td>678395.131962</td>\n",
       "      <td>4.814126e+06</td>\n",
       "    </tr>\n",
       "    <tr>\n",
       "      <th>DHSYEAR_x</th>\n",
       "      <td>2009.431875</td>\n",
       "      <td>6.041852e+00</td>\n",
       "    </tr>\n",
       "    <tr>\n",
       "      <th>LATNUM_x</th>\n",
       "      <td>11.165772</td>\n",
       "      <td>1.655336e+01</td>\n",
       "    </tr>\n",
       "    <tr>\n",
       "      <th>LONGNUM_x</th>\n",
       "      <td>28.211007</td>\n",
       "      <td>5.578222e+01</td>\n",
       "    </tr>\n",
       "    <tr>\n",
       "      <th>ET_water_median@CAS/IGSNRR/PML/V2&amp;timestamped</th>\n",
       "      <td>-0.538179</td>\n",
       "      <td>1.283995e+00</td>\n",
       "    </tr>\n",
       "    <tr>\n",
       "      <th>...</th>\n",
       "      <td>...</td>\n",
       "      <td>...</td>\n",
       "    </tr>\n",
       "    <tr>\n",
       "      <th>LATNUM_y</th>\n",
       "      <td>11.702778</td>\n",
       "      <td>1.641035e+01</td>\n",
       "    </tr>\n",
       "    <tr>\n",
       "      <th>LONGNUM_y</th>\n",
       "      <td>30.980501</td>\n",
       "      <td>5.403856e+01</td>\n",
       "    </tr>\n",
       "    <tr>\n",
       "      <th>Median_BMI</th>\n",
       "      <td>22.884374</td>\n",
       "      <td>3.563578e+00</td>\n",
       "    </tr>\n",
       "    <tr>\n",
       "      <th>Unmet_Need_Rate</th>\n",
       "      <td>34.470986</td>\n",
       "      <td>2.969996e+01</td>\n",
       "    </tr>\n",
       "    <tr>\n",
       "      <th>Skilled_Birth_Attendant_Rate</th>\n",
       "      <td>64.215745</td>\n",
       "      <td>3.530865e+01</td>\n",
       "    </tr>\n",
       "  </tbody>\n",
       "</table>\n",
       "<p>11342 rows × 2 columns</p>\n",
       "</div>"
      ],
      "text/plain": [
       "                                                       means          stds\n",
       "DHSCLUST_x                                     678395.131962  4.814126e+06\n",
       "DHSYEAR_x                                        2009.431875  6.041852e+00\n",
       "LATNUM_x                                           11.165772  1.655336e+01\n",
       "LONGNUM_x                                          28.211007  5.578222e+01\n",
       "ET_water_median@CAS/IGSNRR/PML/V2&timestamped      -0.538179  1.283995e+00\n",
       "...                                                      ...           ...\n",
       "LATNUM_y                                           11.702778  1.641035e+01\n",
       "LONGNUM_y                                          30.980501  5.403856e+01\n",
       "Median_BMI                                         22.884374  3.563578e+00\n",
       "Unmet_Need_Rate                                    34.470986  2.969996e+01\n",
       "Skilled_Birth_Attendant_Rate                       64.215745  3.530865e+01\n",
       "\n",
       "[11342 rows x 2 columns]"
      ]
     },
     "execution_count": 14,
     "metadata": {},
     "output_type": "execute_result"
    }
   ],
   "source": [
    "df_mean_std"
   ]
  },
  {
   "cell_type": "code",
   "execution_count": 15,
   "metadata": {},
   "outputs": [],
   "source": [
    "df_mean_std.to_parquet(\"train_means_std.parquet.gzip\")"
   ]
  },
  {
   "cell_type": "code",
   "execution_count": 16,
   "metadata": {},
   "outputs": [
    {
     "data": {
      "text/plain": [
       "(96808, 11342)"
      ]
     },
     "execution_count": 16,
     "metadata": {},
     "output_type": "execute_result"
    }
   ],
   "source": [
    "train_df.shape"
   ]
  },
  {
   "cell_type": "code",
   "execution_count": 21,
   "metadata": {},
   "outputs": [
    {
     "data": {
      "text/plain": [
       "DHSCLUST_x                                       4.814126e+06\n",
       "DHSYEAR_x                                        6.041852e+00\n",
       "LATNUM_x                                         1.655336e+01\n",
       "LONGNUM_x                                        5.578222e+01\n",
       "ET_water_median@CAS/IGSNRR/PML/V2&timestamped    1.283995e+00\n",
       "                                                     ...     \n",
       "LATNUM_y                                         1.641035e+01\n",
       "LONGNUM_y                                        5.403856e+01\n",
       "Median_BMI                                       3.563578e+00\n",
       "Unmet_Need_Rate                                  2.969996e+01\n",
       "Skilled_Birth_Attendant_Rate                     3.530865e+01\n",
       "Length: 11342, dtype: float64"
      ]
     },
     "execution_count": 21,
     "metadata": {},
     "output_type": "execute_result"
    }
   ],
   "source": [
    "stds"
   ]
  },
  {
   "cell_type": "code",
   "execution_count": 23,
   "metadata": {},
   "outputs": [],
   "source": [
    "train_df_x_norm = (train_df_x - means)/stds"
   ]
  },
  {
   "cell_type": "code",
   "execution_count": 24,
   "metadata": {},
   "outputs": [],
   "source": [
    "train_df_x_norm.to_parquet(\"train_normalized.parquet.gzip\")"
   ]
  },
  {
   "cell_type": "code",
   "execution_count": 27,
   "metadata": {},
   "outputs": [],
   "source": [
    "train_df_x_norm = pd.read_parquet(\"train_normalized.parquet.gzip\")"
   ]
  },
  {
   "cell_type": "code",
   "execution_count": 28,
   "metadata": {},
   "outputs": [
    {
     "data": {
      "text/plain": [
       "(96808, 11342)"
      ]
     },
     "execution_count": 28,
     "metadata": {},
     "output_type": "execute_result"
    }
   ],
   "source": [
    "train_df_x_norm.shape"
   ]
  },
  {
   "cell_type": "code",
   "execution_count": 29,
   "metadata": {},
   "outputs": [],
   "source": [
    "embed_dim = 2048\n",
    "proj = torch.empty((train_df_x_norm.shape[1], embed_dim))\n",
    "proj = torch.nn.init.xavier_normal_(proj)"
   ]
  },
  {
   "cell_type": "code",
   "execution_count": 30,
   "metadata": {},
   "outputs": [],
   "source": [
    "with open(\"rand_proj.pt\", \"wb\") as f:\n",
    "    torch.save(proj, f)"
   ]
  },
  {
   "cell_type": "code",
   "execution_count": 29,
   "metadata": {},
   "outputs": [
    {
     "data": {
      "text/plain": [
       "tensor([[ 0.0080, -0.0107, -0.0058,  ...,  0.0154,  0.0197, -0.0041],\n",
       "        [ 0.0035, -0.0022, -0.0227,  ..., -0.0121,  0.0030,  0.0179],\n",
       "        [-0.0015,  0.0119, -0.0019,  ..., -0.0188, -0.0067,  0.0148],\n",
       "        ...,\n",
       "        [-0.0043, -0.0092,  0.0108,  ..., -0.0126,  0.0015, -0.0215],\n",
       "        [-0.0061,  0.0090, -0.0217,  ...,  0.0130, -0.0235, -0.0096],\n",
       "        [ 0.0070,  0.0140, -0.0001,  ...,  0.0147, -0.0149, -0.0013]])"
      ]
     },
     "execution_count": 29,
     "metadata": {},
     "output_type": "execute_result"
    }
   ],
   "source": [
    "proj"
   ]
  },
  {
   "cell_type": "code",
   "execution_count": null,
   "metadata": {},
   "outputs": [],
   "source": [
    "train_proj = train_df_x_norm @ proj"
   ]
  },
  {
   "cell_type": "markdown",
   "metadata": {},
   "source": [
    "Data Normalizations"
   ]
  },
  {
   "cell_type": "code",
   "execution_count": null,
   "metadata": {},
   "outputs": [],
   "source": [
    "train_df = pd.read_parquet(\"train_20221130.parquet.gzip\")\n",
    "with open(\"drop_cols.pickle\", \"rb\") as f:\n",
    "    other_keys = pickle.load(f)"
   ]
  }
 ],
 "metadata": {
  "kernelspec": {
   "display_name": "Python 3 (ipykernel)",
   "language": "python",
   "name": "python3"
  },
  "language_info": {
   "codemirror_mode": {
    "name": "ipython",
    "version": 3
   },
   "file_extension": ".py",
   "mimetype": "text/x-python",
   "name": "python",
   "nbconvert_exporter": "python",
   "pygments_lexer": "ipython3",
   "version": "3.10.7"
  },
  "vscode": {
   "interpreter": {
    "hash": "203dd7d81855606d4495c07f8242344f31ea633c4c4291aba698e950bde37c67"
   }
  }
 },
 "nbformat": 4,
 "nbformat_minor": 2
}
