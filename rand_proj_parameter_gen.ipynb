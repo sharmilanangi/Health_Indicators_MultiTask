{
 "cells": [
  {
   "cell_type": "markdown",
   "metadata": {},
   "source": [
    "# Generates parameter for random projection models"
   ]
  },
  {
   "cell_type": "code",
   "execution_count": 1,
   "metadata": {},
   "outputs": [],
   "source": [
    "import numpy as np\n",
    "import pandas as pd\n",
    "import matplotlib.pyplot as plt\n",
    "from tqdm import tqdm\n",
    "import pickle\n",
    "\n",
    "import torch\n",
    "import torch.nn as nn\n",
    "import torch.nn.functional as F"
   ]
  },
  {
   "cell_type": "code",
   "execution_count": 2,
   "metadata": {},
   "outputs": [],
   "source": [
    "train_df = pd.read_parquet(\"data/train_20221130.parquet.gzip\")"
   ]
  },
  {
   "cell_type": "code",
   "execution_count": 3,
   "metadata": {},
   "outputs": [],
   "source": [
    "non_pred_cols = [\n",
    "    \"new_ind\",\n",
    "    \"index\",\n",
    "    \"ADM1DHS\",\n",
    "    \"ADM1FIPS\",\n",
    "    \"ADM1FIPSNA\",\n",
    "    \"ADM1NAME\",\n",
    "    \"ADM1SALBCO\",\n",
    "    \"ADM1SALBNA\",\n",
    "    \"ADM1SALNA\",\n",
    "    \"ALT_DEM\",\n",
    "    \"ALT_GPS\",\n",
    "    \"CCFIPS\",\n",
    "    \"DATUM\",\n",
    "    \"DHSCC\",\n",
    "    \"DHSCLUST\",\n",
    "    \"DHSID\",\n",
    "    \"DHSREGCO\",\n",
    "    \"DHSREGNA\",\n",
    "    \"DHSYEAR\",\n",
    "    \"F21\",\n",
    "    \"F22\",\n",
    "    \"F23\",\n",
    "    \"LATNUM\",\n",
    "    \"LONGNUM\",\n",
    "    \"SOURCE\",\n",
    "    \"URBAN_RURA\",\n",
    "    \"ZONECO\",\n",
    "    \"ZONENA\",\n",
    "]\n",
    "other_keys = [\n",
    "    \"Mean_BMI\",\n",
    "    \"Under5_Mortality_Rate\",\n",
    "    \"Stunted_Rate\",\n",
    "    \"new_ind\",\n",
    "    \"key1\",\n",
    "    \"key2\",\n",
    "    \"key3\",\n",
    "    \"DATUM\",\n",
    "    \"DHSCC\",\n",
    "    \"DHSID_x\",\n",
    "    \"DHSREGNA\",\n",
    "    \"SOURCE\",\n",
    "    \"URBAN_RURA_x\",\n",
    "    \"CCFIPS\",\n",
    "    \"DHSID_y\",\n",
    "    \"URBAN_RURA_y\",\n",
    "    \"ADM1NAME\", 'Unnamed: 0', \n",
    "    'DHSYEAR_y',\n",
    "    'DHSCLUST_y', \n",
    "    'LATNUM_y', \n",
    "    'LONGNUM_y', \n",
    "    'Median_BMI', \n",
    "    'Unmet_Need_Rate',\n",
    "    'Skilled_Birth_Attendant_Rate'\n",
    "]"
   ]
  },
  {
   "cell_type": "code",
   "execution_count": 4,
   "metadata": {},
   "outputs": [],
   "source": [
    "na = train_df.isna().mean()\n",
    "na = na.sort_values()\n",
    "drop_cols = na[na >= 0.53].keys()"
   ]
  },
  {
   "cell_type": "code",
   "execution_count": 5,
   "metadata": {},
   "outputs": [],
   "source": [
    "drop = set(non_pred_cols+other_keys).union(drop_cols)\n",
    "train_df.drop(drop, errors='ignore', inplace=True, axis = 1)"
   ]
  },
  {
   "cell_type": "code",
   "execution_count": 6,
   "metadata": {},
   "outputs": [],
   "source": [
    "stds = train_df.std()"
   ]
  },
  {
   "cell_type": "code",
   "execution_count": 7,
   "metadata": {},
   "outputs": [],
   "source": [
    "zero_std = stds[stds==0].keys()"
   ]
  },
  {
   "cell_type": "code",
   "execution_count": 8,
   "metadata": {},
   "outputs": [],
   "source": [
    "drop = drop.union(zero_std)\n",
    "train_df.drop(drop, errors='ignore', inplace=True, axis = 1)\n",
    "stds.drop(drop, errors='ignore', inplace=True)"
   ]
  },
  {
   "cell_type": "code",
   "execution_count": 16,
   "metadata": {},
   "outputs": [
    {
     "data": {
      "text/plain": [
       "Series([], dtype: float64)"
      ]
     },
     "execution_count": 16,
     "metadata": {},
     "output_type": "execute_result"
    }
   ],
   "source": [
    "# make sure there is no zero std fields\n",
    "stds[stds==0.0]"
   ]
  },
  {
   "cell_type": "code",
   "execution_count": 17,
   "metadata": {},
   "outputs": [
    {
     "data": {
      "text/plain": [
       "0.013536716843997987"
      ]
     },
     "execution_count": 17,
     "metadata": {},
     "output_type": "execute_result"
    }
   ],
   "source": [
    "stds[11305]"
   ]
  },
  {
   "cell_type": "code",
   "execution_count": 24,
   "metadata": {},
   "outputs": [],
   "source": [
    "pickle.dump(drop, open(\"data/drop_cols.pickle\", \"wb\"))"
   ]
  },
  {
   "cell_type": "code",
   "execution_count": 11,
   "metadata": {},
   "outputs": [],
   "source": [
    "means = train_df.mean()"
   ]
  },
  {
   "cell_type": "code",
   "execution_count": 26,
   "metadata": {},
   "outputs": [
    {
     "data": {
      "text/plain": [
       "Series([], dtype: float64)"
      ]
     },
     "execution_count": 26,
     "metadata": {},
     "output_type": "execute_result"
    }
   ],
   "source": [
    "means[means.isna()]"
   ]
  },
  {
   "cell_type": "code",
   "execution_count": 29,
   "metadata": {},
   "outputs": [],
   "source": [
    "df_mean_std = pd.concat([means, stds],axis=1)\n",
    "df_mean_std.columns = [\"means\", \"stds\"]"
   ]
  },
  {
   "cell_type": "markdown",
   "metadata": {},
   "source": [
    "pd.concat([means, std],axis=1)"
   ]
  },
  {
   "cell_type": "code",
   "execution_count": 34,
   "metadata": {},
   "outputs": [
    {
     "data": {
      "text/plain": [
       "array([], dtype=int64)"
      ]
     },
     "execution_count": 34,
     "metadata": {},
     "output_type": "execute_result"
    }
   ],
   "source": [
    "#make sure there is no nans\n",
    "np.where(df_mean_std[\"means\"].isna())[0] "
   ]
  },
  {
   "cell_type": "code",
   "execution_count": null,
   "metadata": {},
   "outputs": [],
   "source": []
  },
  {
   "cell_type": "code",
   "execution_count": 35,
   "metadata": {},
   "outputs": [],
   "source": [
    "df_mean_std.to_parquet(\"data/train_means_std.parquet.gzip\")"
   ]
  },
  {
   "cell_type": "code",
   "execution_count": 9,
   "metadata": {},
   "outputs": [],
   "source": [
    "df_mean_std = pd.read_parquet(\"data/train_means_std.parquet.gzip\")"
   ]
  },
  {
   "cell_type": "code",
   "execution_count": 11,
   "metadata": {},
   "outputs": [
    {
     "data": {
      "text/plain": [
       "(11333, 2)"
      ]
     },
     "execution_count": 11,
     "metadata": {},
     "output_type": "execute_result"
    }
   ],
   "source": [
    "df_mean_std.shape"
   ]
  },
  {
   "cell_type": "code",
   "execution_count": 17,
   "metadata": {},
   "outputs": [],
   "source": [
    "embed_dim = 512\n",
    "proj = torch.empty((df_mean_std.shape[0], embed_dim))\n",
    "proj = torch.nn.init.xavier_normal_(proj)"
   ]
  },
  {
   "cell_type": "code",
   "execution_count": 18,
   "metadata": {},
   "outputs": [
    {
     "data": {
      "text/plain": [
       "torch.Size([11333, 512])"
      ]
     },
     "execution_count": 18,
     "metadata": {},
     "output_type": "execute_result"
    }
   ],
   "source": [
    "proj.shape"
   ]
  },
  {
   "cell_type": "code",
   "execution_count": 19,
   "metadata": {},
   "outputs": [],
   "source": [
    "with open(f\"data/rand_proj_{embed_dim}.pt\", \"wb\") as f:\n",
    "    torch.save(proj, f)"
   ]
  },
  {
   "cell_type": "code",
   "execution_count": null,
   "metadata": {},
   "outputs": [],
   "source": []
  }
 ],
 "metadata": {
  "kernelspec": {
   "display_name": ".venv",
   "language": "python",
   "name": "python3"
  },
  "language_info": {
   "codemirror_mode": {
    "name": "ipython",
    "version": 3
   },
   "file_extension": ".py",
   "mimetype": "text/x-python",
   "name": "python",
   "nbconvert_exporter": "python",
   "pygments_lexer": "ipython3",
   "version": "3.10.7 (v3.10.7:6cc6b13308, Sep  5 2022, 14:02:52) [Clang 13.0.0 (clang-1300.0.29.30)]"
  },
  "vscode": {
   "interpreter": {
    "hash": "203dd7d81855606d4495c07f8242344f31ea633c4c4291aba698e950bde37c67"
   }
  }
 },
 "nbformat": 4,
 "nbformat_minor": 2
}
