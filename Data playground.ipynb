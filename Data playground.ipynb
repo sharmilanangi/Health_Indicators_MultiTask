{
 "cells": [
  {
   "cell_type": "code",
   "execution_count": 8,
   "metadata": {},
   "outputs": [],
   "source": [
    "import numpy as np\n",
    "import pandas as pd\n",
    "import matplotlib.pyplot as plt\n",
    "from tqdm import tqdm\n",
    "from sklearn.model_selection import train_test_split\n",
    "\n",
    "# import tensorflow as tf"
   ]
  },
  {
   "cell_type": "code",
   "execution_count": 4,
   "metadata": {},
   "outputs": [],
   "source": [
    "df = pd.read_parquet(\"full_df.parquet.gzip\")"
   ]
  },
  {
   "cell_type": "code",
   "execution_count": null,
   "metadata": {},
   "outputs": [],
   "source": [
    "non_pred_cols = [\n",
    "    \"new_ind\",\n",
    "    \"index\",\n",
    "    \"ADM1DHS\",\n",
    "    \"ADM1FIPS\",\n",
    "    \"ADM1FIPSNA\",\n",
    "    \"ADM1NAME\",\n",
    "    \"ADM1SALBCO\",\n",
    "    \"ADM1SALBNA\",\n",
    "    \"ADM1SALNA\",\n",
    "    \"ALT_DEM\",\n",
    "    \"ALT_GPS\",\n",
    "    \"CCFIPS\",\n",
    "    \"DATUM\",\n",
    "    \"DHSCC\",\n",
    "    \"DHSCLUST\",\n",
    "    \"DHSID\",\n",
    "    \"DHSREGCO\",\n",
    "    \"DHSREGNA\",\n",
    "    \"DHSYEAR\",\n",
    "    \"F21\",\n",
    "    \"F22\",\n",
    "    \"F23\",\n",
    "    \"LATNUM\",\n",
    "    \"LONGNUM\",\n",
    "    \"SOURCE\",\n",
    "    \"URBAN_RURA\",\n",
    "    \"ZONECO\",\n",
    "    \"ZONENA\",\n",
    "]"
   ]
  },
  {
   "cell_type": "code",
   "execution_count": 3,
   "metadata": {
    "scrolled": true
   },
   "outputs": [
    {
     "data": {
      "text/html": [
       "<div>\n",
       "<style scoped>\n",
       "    .dataframe tbody tr th:only-of-type {\n",
       "        vertical-align: middle;\n",
       "    }\n",
       "\n",
       "    .dataframe tbody tr th {\n",
       "        vertical-align: top;\n",
       "    }\n",
       "\n",
       "    .dataframe thead th {\n",
       "        text-align: right;\n",
       "    }\n",
       "</style>\n",
       "<table border=\"1\" class=\"dataframe\">\n",
       "  <thead>\n",
       "    <tr style=\"text-align: right;\">\n",
       "      <th></th>\n",
       "      <th>new_ind</th>\n",
       "      <th>index</th>\n",
       "      <th>ADM1DHS</th>\n",
       "      <th>ADM1FIPS</th>\n",
       "      <th>ADM1FIPSNA</th>\n",
       "      <th>ADM1NAME</th>\n",
       "      <th>ADM1SALBCO</th>\n",
       "      <th>ADM1SALBNA</th>\n",
       "      <th>ADM1SALNA</th>\n",
       "      <th>ALT_DEM</th>\n",
       "      <th>...</th>\n",
       "      <th>LATNUM_y</th>\n",
       "      <th>LONGNUM_y</th>\n",
       "      <th>Mean_BMI</th>\n",
       "      <th>Median_BMI</th>\n",
       "      <th>Unmet_Need_Rate</th>\n",
       "      <th>Under5_Mortality_Rate</th>\n",
       "      <th>Skilled_Birth_Attendant_Rate</th>\n",
       "      <th>Stunted_Rate</th>\n",
       "      <th>Fully_Vaccinated_Children_Rate</th>\n",
       "      <th>URBAN_RURA_y</th>\n",
       "    </tr>\n",
       "  </thead>\n",
       "  <tbody>\n",
       "    <tr>\n",
       "      <th>0</th>\n",
       "      <td>AL200800000001</td>\n",
       "      <td>0</td>\n",
       "      <td>9999</td>\n",
       "      <td>None</td>\n",
       "      <td>None</td>\n",
       "      <td>None</td>\n",
       "      <td>None</td>\n",
       "      <td>None</td>\n",
       "      <td>NaN</td>\n",
       "      <td>45.0</td>\n",
       "      <td>...</td>\n",
       "      <td>40.822652</td>\n",
       "      <td>19.838321</td>\n",
       "      <td>24.12</td>\n",
       "      <td>25.28</td>\n",
       "      <td>50.00</td>\n",
       "      <td>9.68</td>\n",
       "      <td>100.00</td>\n",
       "      <td>20.00</td>\n",
       "      <td>NaN</td>\n",
       "      <td>R</td>\n",
       "    </tr>\n",
       "    <tr>\n",
       "      <th>1</th>\n",
       "      <td>AL200800000002</td>\n",
       "      <td>40</td>\n",
       "      <td>9999</td>\n",
       "      <td>None</td>\n",
       "      <td>None</td>\n",
       "      <td>None</td>\n",
       "      <td>None</td>\n",
       "      <td>None</td>\n",
       "      <td>NaN</td>\n",
       "      <td>65.0</td>\n",
       "      <td>...</td>\n",
       "      <td>40.696846</td>\n",
       "      <td>20.007555</td>\n",
       "      <td>23.04</td>\n",
       "      <td>21.98</td>\n",
       "      <td>7.69</td>\n",
       "      <td>8.33</td>\n",
       "      <td>66.67</td>\n",
       "      <td>0.00</td>\n",
       "      <td>NaN</td>\n",
       "      <td>R</td>\n",
       "    </tr>\n",
       "    <tr>\n",
       "      <th>2</th>\n",
       "      <td>AL200800000003</td>\n",
       "      <td>80</td>\n",
       "      <td>9999</td>\n",
       "      <td>None</td>\n",
       "      <td>None</td>\n",
       "      <td>None</td>\n",
       "      <td>None</td>\n",
       "      <td>None</td>\n",
       "      <td>NaN</td>\n",
       "      <td>261.0</td>\n",
       "      <td>...</td>\n",
       "      <td>40.750037</td>\n",
       "      <td>19.974262</td>\n",
       "      <td>22.91</td>\n",
       "      <td>23.47</td>\n",
       "      <td>11.11</td>\n",
       "      <td>0.00</td>\n",
       "      <td>100.00</td>\n",
       "      <td>0.00</td>\n",
       "      <td>NaN</td>\n",
       "      <td>R</td>\n",
       "    </tr>\n",
       "    <tr>\n",
       "      <th>3</th>\n",
       "      <td>AL200800000004</td>\n",
       "      <td>120</td>\n",
       "      <td>9999</td>\n",
       "      <td>None</td>\n",
       "      <td>None</td>\n",
       "      <td>None</td>\n",
       "      <td>None</td>\n",
       "      <td>None</td>\n",
       "      <td>NaN</td>\n",
       "      <td>29.0</td>\n",
       "      <td>...</td>\n",
       "      <td>40.798931</td>\n",
       "      <td>19.863338</td>\n",
       "      <td>26.74</td>\n",
       "      <td>26.57</td>\n",
       "      <td>7.69</td>\n",
       "      <td>2.86</td>\n",
       "      <td>100.00</td>\n",
       "      <td>0.00</td>\n",
       "      <td>NaN</td>\n",
       "      <td>R</td>\n",
       "    </tr>\n",
       "    <tr>\n",
       "      <th>4</th>\n",
       "      <td>AL200800000005</td>\n",
       "      <td>160</td>\n",
       "      <td>9999</td>\n",
       "      <td>None</td>\n",
       "      <td>None</td>\n",
       "      <td>None</td>\n",
       "      <td>None</td>\n",
       "      <td>None</td>\n",
       "      <td>NaN</td>\n",
       "      <td>130.0</td>\n",
       "      <td>...</td>\n",
       "      <td>40.746123</td>\n",
       "      <td>19.843885</td>\n",
       "      <td>24.51</td>\n",
       "      <td>22.60</td>\n",
       "      <td>12.50</td>\n",
       "      <td>0.00</td>\n",
       "      <td>100.00</td>\n",
       "      <td>33.33</td>\n",
       "      <td>NaN</td>\n",
       "      <td>R</td>\n",
       "    </tr>\n",
       "    <tr>\n",
       "      <th>...</th>\n",
       "      <td>...</td>\n",
       "      <td>...</td>\n",
       "      <td>...</td>\n",
       "      <td>...</td>\n",
       "      <td>...</td>\n",
       "      <td>...</td>\n",
       "      <td>...</td>\n",
       "      <td>...</td>\n",
       "      <td>...</td>\n",
       "      <td>...</td>\n",
       "      <td>...</td>\n",
       "      <td>...</td>\n",
       "      <td>...</td>\n",
       "      <td>...</td>\n",
       "      <td>...</td>\n",
       "      <td>...</td>\n",
       "      <td>...</td>\n",
       "      <td>...</td>\n",
       "      <td>...</td>\n",
       "      <td>...</td>\n",
       "      <td>...</td>\n",
       "    </tr>\n",
       "    <tr>\n",
       "      <th>120981</th>\n",
       "      <td>ZW201500000396</td>\n",
       "      <td>184</td>\n",
       "      <td>9</td>\n",
       "      <td>None</td>\n",
       "      <td>None</td>\n",
       "      <td>Harare</td>\n",
       "      <td>None</td>\n",
       "      <td>None</td>\n",
       "      <td>NaN</td>\n",
       "      <td>1482.0</td>\n",
       "      <td>...</td>\n",
       "      <td>-17.915288</td>\n",
       "      <td>31.156115</td>\n",
       "      <td>23.16</td>\n",
       "      <td>22.14</td>\n",
       "      <td>33.33</td>\n",
       "      <td>2.04</td>\n",
       "      <td>78.95</td>\n",
       "      <td>25.00</td>\n",
       "      <td>0.0</td>\n",
       "      <td>U</td>\n",
       "    </tr>\n",
       "    <tr>\n",
       "      <th>120982</th>\n",
       "      <td>ZW201500000397</td>\n",
       "      <td>221</td>\n",
       "      <td>1</td>\n",
       "      <td>None</td>\n",
       "      <td>None</td>\n",
       "      <td>Manicaland</td>\n",
       "      <td>None</td>\n",
       "      <td>None</td>\n",
       "      <td>NaN</td>\n",
       "      <td>1448.0</td>\n",
       "      <td>...</td>\n",
       "      <td>-18.379501</td>\n",
       "      <td>31.872287</td>\n",
       "      <td>24.33</td>\n",
       "      <td>22.61</td>\n",
       "      <td>11.11</td>\n",
       "      <td>1.75</td>\n",
       "      <td>76.19</td>\n",
       "      <td>22.22</td>\n",
       "      <td>0.0</td>\n",
       "      <td>R</td>\n",
       "    </tr>\n",
       "    <tr>\n",
       "      <th>120983</th>\n",
       "      <td>ZW201500000398</td>\n",
       "      <td>258</td>\n",
       "      <td>4</td>\n",
       "      <td>None</td>\n",
       "      <td>None</td>\n",
       "      <td>Mashonaland West</td>\n",
       "      <td>None</td>\n",
       "      <td>None</td>\n",
       "      <td>NaN</td>\n",
       "      <td>1182.0</td>\n",
       "      <td>...</td>\n",
       "      <td>-16.660612</td>\n",
       "      <td>29.850649</td>\n",
       "      <td>23.70</td>\n",
       "      <td>21.44</td>\n",
       "      <td>10.53</td>\n",
       "      <td>4.88</td>\n",
       "      <td>68.00</td>\n",
       "      <td>17.65</td>\n",
       "      <td>0.0</td>\n",
       "      <td>R</td>\n",
       "    </tr>\n",
       "    <tr>\n",
       "      <th>120984</th>\n",
       "      <td>ZW201500000399</td>\n",
       "      <td>295</td>\n",
       "      <td>9</td>\n",
       "      <td>None</td>\n",
       "      <td>None</td>\n",
       "      <td>Harare</td>\n",
       "      <td>None</td>\n",
       "      <td>None</td>\n",
       "      <td>NaN</td>\n",
       "      <td>1416.0</td>\n",
       "      <td>...</td>\n",
       "      <td>-17.914251</td>\n",
       "      <td>30.956975</td>\n",
       "      <td>26.55</td>\n",
       "      <td>24.80</td>\n",
       "      <td>11.11</td>\n",
       "      <td>1.96</td>\n",
       "      <td>94.44</td>\n",
       "      <td>0.00</td>\n",
       "      <td>0.0</td>\n",
       "      <td>U</td>\n",
       "    </tr>\n",
       "    <tr>\n",
       "      <th>120985</th>\n",
       "      <td>ZW201500000400</td>\n",
       "      <td>332</td>\n",
       "      <td>3</td>\n",
       "      <td>None</td>\n",
       "      <td>None</td>\n",
       "      <td>Mashonaland East</td>\n",
       "      <td>None</td>\n",
       "      <td>None</td>\n",
       "      <td>NaN</td>\n",
       "      <td>1413.0</td>\n",
       "      <td>...</td>\n",
       "      <td>-17.859114</td>\n",
       "      <td>31.797626</td>\n",
       "      <td>25.84</td>\n",
       "      <td>24.76</td>\n",
       "      <td>7.69</td>\n",
       "      <td>10.64</td>\n",
       "      <td>62.50</td>\n",
       "      <td>22.22</td>\n",
       "      <td>0.0</td>\n",
       "      <td>R</td>\n",
       "    </tr>\n",
       "  </tbody>\n",
       "</table>\n",
       "<p>120986 rows × 11959 columns</p>\n",
       "</div>"
      ],
      "text/plain": [
       "               new_ind  index  ADM1DHS ADM1FIPS ADM1FIPSNA          ADM1NAME  \\\n",
       "0       AL200800000001      0     9999     None       None              None   \n",
       "1       AL200800000002     40     9999     None       None              None   \n",
       "2       AL200800000003     80     9999     None       None              None   \n",
       "3       AL200800000004    120     9999     None       None              None   \n",
       "4       AL200800000005    160     9999     None       None              None   \n",
       "...                ...    ...      ...      ...        ...               ...   \n",
       "120981  ZW201500000396    184        9     None       None            Harare   \n",
       "120982  ZW201500000397    221        1     None       None        Manicaland   \n",
       "120983  ZW201500000398    258        4     None       None  Mashonaland West   \n",
       "120984  ZW201500000399    295        9     None       None            Harare   \n",
       "120985  ZW201500000400    332        3     None       None  Mashonaland East   \n",
       "\n",
       "       ADM1SALBCO ADM1SALBNA  ADM1SALNA  ALT_DEM  ...   LATNUM_y  LONGNUM_y  \\\n",
       "0            None       None        NaN     45.0  ...  40.822652  19.838321   \n",
       "1            None       None        NaN     65.0  ...  40.696846  20.007555   \n",
       "2            None       None        NaN    261.0  ...  40.750037  19.974262   \n",
       "3            None       None        NaN     29.0  ...  40.798931  19.863338   \n",
       "4            None       None        NaN    130.0  ...  40.746123  19.843885   \n",
       "...           ...        ...        ...      ...  ...        ...        ...   \n",
       "120981       None       None        NaN   1482.0  ... -17.915288  31.156115   \n",
       "120982       None       None        NaN   1448.0  ... -18.379501  31.872287   \n",
       "120983       None       None        NaN   1182.0  ... -16.660612  29.850649   \n",
       "120984       None       None        NaN   1416.0  ... -17.914251  30.956975   \n",
       "120985       None       None        NaN   1413.0  ... -17.859114  31.797626   \n",
       "\n",
       "       Mean_BMI Median_BMI  Unmet_Need_Rate Under5_Mortality_Rate  \\\n",
       "0         24.12      25.28            50.00                  9.68   \n",
       "1         23.04      21.98             7.69                  8.33   \n",
       "2         22.91      23.47            11.11                  0.00   \n",
       "3         26.74      26.57             7.69                  2.86   \n",
       "4         24.51      22.60            12.50                  0.00   \n",
       "...         ...        ...              ...                   ...   \n",
       "120981    23.16      22.14            33.33                  2.04   \n",
       "120982    24.33      22.61            11.11                  1.75   \n",
       "120983    23.70      21.44            10.53                  4.88   \n",
       "120984    26.55      24.80            11.11                  1.96   \n",
       "120985    25.84      24.76             7.69                 10.64   \n",
       "\n",
       "        Skilled_Birth_Attendant_Rate Stunted_Rate  \\\n",
       "0                             100.00        20.00   \n",
       "1                              66.67         0.00   \n",
       "2                             100.00         0.00   \n",
       "3                             100.00         0.00   \n",
       "4                             100.00        33.33   \n",
       "...                              ...          ...   \n",
       "120981                         78.95        25.00   \n",
       "120982                         76.19        22.22   \n",
       "120983                         68.00        17.65   \n",
       "120984                         94.44         0.00   \n",
       "120985                         62.50        22.22   \n",
       "\n",
       "        Fully_Vaccinated_Children_Rate  URBAN_RURA_y  \n",
       "0                                  NaN             R  \n",
       "1                                  NaN             R  \n",
       "2                                  NaN             R  \n",
       "3                                  NaN             R  \n",
       "4                                  NaN             R  \n",
       "...                                ...           ...  \n",
       "120981                             0.0             U  \n",
       "120982                             0.0             R  \n",
       "120983                             0.0             R  \n",
       "120984                             0.0             U  \n",
       "120985                             0.0             R  \n",
       "\n",
       "[120986 rows x 11959 columns]"
      ]
     },
     "execution_count": 3,
     "metadata": {},
     "output_type": "execute_result"
    }
   ],
   "source": [
    "df"
   ]
  },
  {
   "cell_type": "code",
   "execution_count": 4,
   "metadata": {},
   "outputs": [
    {
     "data": {
      "text/plain": [
       "SOURCE\n",
       "GPS       100671\n",
       "GAZ        10986\n",
       "CEN         8155\n",
       "MIS         1174\n",
       "dtype: int64"
      ]
     },
     "execution_count": 4,
     "metadata": {},
     "output_type": "execute_result"
    }
   ],
   "source": [
    "df[['SOURCE']].value_counts()"
   ]
  },
  {
   "cell_type": "code",
   "execution_count": null,
   "metadata": {},
   "outputs": [],
   "source": [
    "na = df.isna().mean()\n",
    "na = na.sort_values()"
   ]
  },
  {
   "cell_type": "code",
   "execution_count": null,
   "metadata": {},
   "outputs": [],
   "source": [
    "#Remove columns with too many NaNs\n",
    "# keep_cols = na[na < 0.53].keys()\n",
    "drop_cols = na[na >= 0.53].keys()"
   ]
  },
  {
   "cell_type": "code",
   "execution_count": null,
   "metadata": {},
   "outputs": [],
   "source": [
    "# df_impute = df[keep_cols]\n",
    "df = df.drop(drop_cols, axis=1)"
   ]
  },
  {
   "cell_type": "code",
   "execution_count": 15,
   "metadata": {},
   "outputs": [
    {
     "data": {
      "text/plain": [
       "Index(['DHSCC', 'DHSCLUST_x', 'DHSID_x', 'DHSREGCO', 'DHSREGNA', 'DHSYEAR_x',\n",
       "       'DHSID_y', 'DHSYEAR_y', 'DHSCLUST_y'],\n",
       "      dtype='object')"
      ]
     },
     "execution_count": 15,
     "metadata": {},
     "output_type": "execute_result"
    }
   ],
   "source": [
    "df.columns[df.columns.str.startswith(\"DHS\")]"
   ]
  },
  {
   "cell_type": "code",
   "execution_count": 19,
   "metadata": {},
   "outputs": [
    {
     "data": {
      "text/html": [
       "<div>\n",
       "<style scoped>\n",
       "    .dataframe tbody tr th:only-of-type {\n",
       "        vertical-align: middle;\n",
       "    }\n",
       "\n",
       "    .dataframe tbody tr th {\n",
       "        vertical-align: top;\n",
       "    }\n",
       "\n",
       "    .dataframe thead th {\n",
       "        text-align: right;\n",
       "    }\n",
       "</style>\n",
       "<table border=\"1\" class=\"dataframe\">\n",
       "  <thead>\n",
       "    <tr style=\"text-align: right;\">\n",
       "      <th></th>\n",
       "      <th>DHSYEAR_x</th>\n",
       "      <th>DHSYEAR_y</th>\n",
       "    </tr>\n",
       "  </thead>\n",
       "  <tbody>\n",
       "  </tbody>\n",
       "</table>\n",
       "</div>"
      ],
      "text/plain": [
       "Empty DataFrame\n",
       "Columns: [DHSYEAR_x, DHSYEAR_y]\n",
       "Index: []"
      ]
     },
     "execution_count": 19,
     "metadata": {},
     "output_type": "execute_result"
    }
   ],
   "source": [
    "tmp = df[[\"DHSYEAR_x\",\"DHSYEAR_y\"]]\n",
    "tmp[tmp[\"DHSYEAR_x\"].isna()]\n"
   ]
  },
  {
   "cell_type": "code",
   "execution_count": 20,
   "metadata": {},
   "outputs": [
    {
     "data": {
      "text/plain": [
       "IA    27743\n",
       "EG     7845\n",
       "PE     5374\n",
       "CO     4987\n",
       "NG     3831\n",
       "DR     3494\n",
       "GH     2950\n",
       "BD     2922\n",
       "PH     2861\n",
       "MW     2780\n",
       "KE     2392\n",
       "ET     2313\n",
       "ZM     2306\n",
       "KH     2250\n",
       "UG     2236\n",
       "JO     2234\n",
       "SN     2173\n",
       "ML     1867\n",
       "BJ     1752\n",
       "RW     1695\n",
       "CM     1623\n",
       "HT     1552\n",
       "PK     1533\n",
       "ZA     1492\n",
       "ZW     1434\n",
       "ID     1392\n",
       "SL     1364\n",
       "BF     1361\n",
       "NM     1310\n",
       "GN     1289\n",
       "LS     1204\n",
       "MZ     1187\n",
       "NP     1183\n",
       "AL     1165\n",
       "HN     1148\n",
       "BO     1001\n",
       "BU      930\n",
       "TL      910\n",
       "MD      863\n",
       "GU      858\n",
       "CD      836\n",
       "MB      800\n",
       "LB      776\n",
       "TG      771\n",
       "CI      737\n",
       "TJ      722\n",
       "AO      625\n",
       "TD      624\n",
       "AM      621\n",
       "TZ      608\n",
       "NI      503\n",
       "MA      480\n",
       "MM      441\n",
       "GA      336\n",
       "GY      325\n",
       "SZ      275\n",
       "KM      252\n",
       "CF      231\n",
       "UZ      219\n",
       "Name: key1, dtype: int64"
      ]
     },
     "execution_count": 20,
     "metadata": {},
     "output_type": "execute_result"
    }
   ],
   "source": [
    "df[\"key1\"].value_counts()"
   ]
  },
  {
   "cell_type": "code",
   "execution_count": 8,
   "metadata": {},
   "outputs": [
    {
     "data": {
      "text/plain": [
       "new_ind         object\n",
       "ADM1NAME        object\n",
       "CCFIPS          object\n",
       "DATUM           object\n",
       "DHSCC           object\n",
       "DHSID_x         object\n",
       "DHSREGNA        object\n",
       "SOURCE          object\n",
       "URBAN_RURA_x    object\n",
       "key1            object\n",
       "DHSID_y         object\n",
       "URBAN_RURA_y    object\n",
       "dtype: object"
      ]
     },
     "execution_count": 8,
     "metadata": {},
     "output_type": "execute_result"
    }
   ],
   "source": [
    "df.dtypes[df.dtypes==object]"
   ]
  },
  {
   "cell_type": "code",
   "execution_count": 4,
   "metadata": {},
   "outputs": [],
   "source": [
    "country_couts = df[\"key1\"].value_counts()"
   ]
  },
  {
   "cell_type": "code",
   "execution_count": null,
   "metadata": {},
   "outputs": [],
   "source": [
    "apply(lambda g: g[g['B'] == g['B'].max()]"
   ]
  },
  {
   "cell_type": "code",
   "execution_count": 5,
   "metadata": {},
   "outputs": [
    {
     "data": {
      "text/plain": [
       "IA    27743\n",
       "EG     7845\n",
       "PE     5374\n",
       "CO     4987\n",
       "NG     3831\n",
       "DR     3494\n",
       "GH     2950\n",
       "BD     2922\n",
       "PH     2861\n",
       "MW     2780\n",
       "KE     2392\n",
       "ET     2313\n",
       "ZM     2306\n",
       "KH     2250\n",
       "UG     2236\n",
       "JO     2234\n",
       "SN     2173\n",
       "ML     1867\n",
       "BJ     1752\n",
       "RW     1695\n",
       "CM     1623\n",
       "HT     1552\n",
       "PK     1533\n",
       "ZA     1492\n",
       "ZW     1434\n",
       "ID     1392\n",
       "SL     1364\n",
       "BF     1361\n",
       "NM     1310\n",
       "GN     1289\n",
       "LS     1204\n",
       "MZ     1187\n",
       "NP     1183\n",
       "AL     1165\n",
       "HN     1148\n",
       "BO     1001\n",
       "BU      930\n",
       "TL      910\n",
       "MD      863\n",
       "GU      858\n",
       "CD      836\n",
       "MB      800\n",
       "LB      776\n",
       "TG      771\n",
       "CI      737\n",
       "TJ      722\n",
       "AO      625\n",
       "TD      624\n",
       "AM      621\n",
       "TZ      608\n",
       "NI      503\n",
       "MA      480\n",
       "MM      441\n",
       "GA      336\n",
       "GY      325\n",
       "SZ      275\n",
       "KM      252\n",
       "CF      231\n",
       "UZ      219\n",
       "Name: key1, dtype: int64"
      ]
     },
     "execution_count": 5,
     "metadata": {},
     "output_type": "execute_result"
    }
   ],
   "source": [
    "country_couts"
   ]
  },
  {
   "cell_type": "code",
   "execution_count": null,
   "metadata": {},
   "outputs": [],
   "source": []
  },
  {
   "cell_type": "code",
   "execution_count": 3,
   "metadata": {},
   "outputs": [
    {
     "data": {
      "text/plain": [
       "2017    715\n",
       "2008    450\n",
       "Name: DHSYEAR_x, dtype: int64"
      ]
     },
     "execution_count": 3,
     "metadata": {},
     "output_type": "execute_result"
    }
   ],
   "source": [
    "df[[\"DHSYEAR_x\", \"key1\"]][df[\"key1\"]==\"AL\"][\"DHSYEAR_x\"].value_counts()"
   ]
  },
  {
   "cell_type": "code",
   "execution_count": 5,
   "metadata": {},
   "outputs": [],
   "source": [
    "def get_last(g):\n",
    "    idx = len(g)//10\n",
    "    return g[-idx:]\n",
    "\n",
    "\n",
    "#Assume the year is already sorted\n",
    "test = df.groupby([\"key1\"]).apply(get_last)"
   ]
  },
  {
   "cell_type": "code",
   "execution_count": 6,
   "metadata": {},
   "outputs": [],
   "source": [
    "test.to_parquet(\"test_20221130.parquet.gzip\", compression=\"gzip\")"
   ]
  },
  {
   "cell_type": "code",
   "execution_count": 7,
   "metadata": {},
   "outputs": [],
   "source": [
    "del test"
   ]
  },
  {
   "cell_type": "code",
   "execution_count": 9,
   "metadata": {},
   "outputs": [],
   "source": [
    "def remove_last(g):\n",
    "    idx = len(g)//10\n",
    "    return g[:-idx]\n",
    "train_dev = df.groupby([\"key1\"]).apply(remove_last)\n",
    "train, dev = train_test_split(train_dev, test_size=0.1111, stratify=train_dev[\"key1\"])"
   ]
  },
  {
   "cell_type": "code",
   "execution_count": 10,
   "metadata": {},
   "outputs": [],
   "source": [
    "train.to_parquet(\"train_20221130.parquet.gzip\", compression=\"gzip\")\n",
    "dev.to_parquet(\"dev_20221130.parquet.gzip\", compression=\"gzip\")"
   ]
  },
  {
   "cell_type": "code",
   "execution_count": 18,
   "metadata": {},
   "outputs": [
    {
     "data": {
      "text/plain": [
       "115535    2002\n",
       "115536    2002\n",
       "115537    2002\n",
       "115538    2002\n",
       "115539    2002\n",
       "          ... \n",
       "115749    2002\n",
       "115750    2002\n",
       "115751    2002\n",
       "115752    2002\n",
       "115753    2002\n",
       "Name: DHSYEAR_x, Length: 219, dtype: int64"
      ]
     },
     "execution_count": 18,
     "metadata": {},
     "output_type": "execute_result"
    }
   ],
   "source": [
    "tmp[\"DHSYEAR_x\"]"
   ]
  },
  {
   "cell_type": "code",
   "execution_count": 10,
   "metadata": {},
   "outputs": [],
   "source": [
    "impute_na = df.isna().sum()\n",
    "impute_na = impute_na[impute_na > 0]"
   ]
  },
  {
   "cell_type": "code",
   "execution_count": 20,
   "metadata": {
    "scrolled": false
   },
   "outputs": [
    {
     "name": "stderr",
     "output_type": "stream",
     "text": [
      "  0%|                                                                                                                          | 0/27 [00:00<?, ?it/s]/var/folders/px/gt6gy3zd5x13r8x0w55jyt2r0000gn/T/ipykernel_14884/2985433081.py:6: SettingWithCopyWarning: \n",
      "A value is trying to be set on a copy of a slice from a DataFrame\n",
      "\n",
      "See the caveats in the documentation: https://pandas.pydata.org/pandas-docs/stable/user_guide/indexing.html#returning-a-view-versus-a-copy\n",
      "  df_impute[col].fillna(mean, inplace=True)\n",
      "100%|████████████████████████████████████████████████████████████████████████████████████████████████████████████████| 27/27 [00:00<00:00, 193.10it/s]\n"
     ]
    }
   ],
   "source": [
    "# df_impute = df[keep_cols]\n",
    "\n",
    "for col in tqdm(impute_na.keys()):\n",
    "    if df_impute[col].dtype != object:\n",
    "        mean = df_impute[col].mean()\n",
    "        df_impute[col].fillna(mean, inplace=True)"
   ]
  },
  {
   "cell_type": "code",
   "execution_count": 21,
   "metadata": {},
   "outputs": [],
   "source": [
    "df_impute.to_parquet(\"full_df_impute.parquet.gzip\", compression=\"gzip\")"
   ]
  },
  {
   "cell_type": "code",
   "execution_count": 3,
   "metadata": {},
   "outputs": [],
   "source": [
    "df_impute = pd.read_parquet(\"full_df_impute.parquet.gzip\")"
   ]
  },
  {
   "cell_type": "code",
   "execution_count": 6,
   "metadata": {},
   "outputs": [],
   "source": [
    "from sklearn.model_selection import train_test_split"
   ]
  },
  {
   "cell_type": "code",
   "execution_count": 7,
   "metadata": {},
   "outputs": [],
   "source": [
    "country = df_impute[\"new_ind\"].apply(lambda x: x[:2])"
   ]
  },
  {
   "cell_type": "code",
   "execution_count": 8,
   "metadata": {},
   "outputs": [],
   "source": [
    "train_dev, test, country_train_dev, _ = train_test_split(df_impute, country, test_size=0.1, stratify=country)\n",
    "train, dev = train_test_split(train_dev, test_size=0.1, stratify=country_train_dev)"
   ]
  },
  {
   "cell_type": "code",
   "execution_count": 9,
   "metadata": {},
   "outputs": [],
   "source": [
    "train.to_parquet(\"train_20221130.parquet.gzip\", compression=\"gzip\")\n",
    "dev.to_parquet(\"dev_20221130.parquet.gzip\", compression=\"gzip\")\n",
    "test.to_parquet(\"test_20221130.parquet.gzip\", compression=\"gzip\")"
   ]
  },
  {
   "cell_type": "code",
   "execution_count": null,
   "metadata": {},
   "outputs": [],
   "source": [
    "len(train)"
   ]
  },
  {
   "cell_type": "code",
   "execution_count": 11,
   "metadata": {},
   "outputs": [
    {
     "data": {
      "text/plain": [
       "CCFIPS                                                                                                    1258\n",
       "DHSYEAR_y                                                                                                 5164\n",
       "Unnamed: 0                                                                                                5164\n",
       "DHSID_y                                                                                                   5164\n",
       "LATNUM_y                                                                                                  5164\n",
       "DHSCLUST_y                                                                                                5164\n",
       "LONGNUM_y                                                                                                 5164\n",
       "URBAN_RURA_y                                                                                              5164\n",
       "Unmet_Need_Rate                                                                                           7067\n",
       "ADM1NAME                                                                                                 15343\n",
       "Median_BMI                                                                                               25176\n",
       "Mean_BMI                                                                                                 25176\n",
       "Under5_Mortality_Rate                                                                                    34036\n",
       "Skilled_Birth_Attendant_Rate                                                                             37737\n",
       "Deep_Blue_Single_Scattering_Albedo_Land_Std_Deviation_Mean_412_median@MODIS/061/MOD08_M3&timestamped     43829\n",
       "Deep_Blue_Single_Scattering_Albedo_Land_Mean_Mean_412_median@MODIS/061/MOD08_M3&timestamped              43829\n",
       "Deep_Blue_Single_Scattering_Albedo_Land_Mean_Mean_412_mean@MODIS/061/MOD08_M3&timestamped                47098\n",
       "Deep_Blue_Single_Scattering_Albedo_Land_Std_Deviation_Mean_412_mean@MODIS/061/MOD08_M3&timestamped       47098\n",
       "Deep_Blue_Single_Scattering_Albedo_Land_Mean_Mean_412_min_max@MODIS/061/MOD08_M3&timestamped             47942\n",
       "Deep_Blue_Single_Scattering_Albedo_Land_Mean_Mean_412_max_max@MODIS/061/MOD08_M3&timestamped             47942\n",
       "Deep_Blue_Single_Scattering_Albedo_Land_Std_Deviation_Mean_412_max_max@MODIS/061/MOD08_M3&timestamped    47942\n",
       "Deep_Blue_Single_Scattering_Albedo_Land_Std_Deviation_Mean_412_min_min@MODIS/061/MOD08_M3&timestamped    47942\n",
       "Deep_Blue_Single_Scattering_Albedo_Land_Std_Deviation_Mean_412_min_max@MODIS/061/MOD08_M3&timestamped    47942\n",
       "Deep_Blue_Single_Scattering_Albedo_Land_Mean_Mean_412_max_min@MODIS/061/MOD08_M3&timestamped             47942\n",
       "Deep_Blue_Single_Scattering_Albedo_Land_Std_Deviation_Mean_412_max_min@MODIS/061/MOD08_M3&timestamped    47942\n",
       "Deep_Blue_Single_Scattering_Albedo_Land_Mean_Mean_412_min_min@MODIS/061/MOD08_M3&timestamped             47942\n",
       "Stunted_Rate                                                                                             63019\n",
       "dtype: int64"
      ]
     },
     "execution_count": 11,
     "metadata": {},
     "output_type": "execute_result"
    }
   ],
   "source": [
    "impute_na"
   ]
  },
  {
   "cell_type": "code",
   "execution_count": 19,
   "metadata": {},
   "outputs": [
    {
     "data": {
      "text/plain": [
       "True"
      ]
     },
     "execution_count": 19,
     "metadata": {},
     "output_type": "execute_result"
    }
   ],
   "source": [
    "df_impute['CCFIPS'].dtype == object"
   ]
  },
  {
   "cell_type": "code",
   "execution_count": 38,
   "metadata": {},
   "outputs": [
    {
     "ename": "AttributeError",
     "evalue": "module 'pandas' has no attribute 'dtype'",
     "output_type": "error",
     "traceback": [
      "\u001b[0;31m---------------------------------------------------------------------------\u001b[0m",
      "\u001b[0;31mAttributeError\u001b[0m                            Traceback (most recent call last)",
      "Cell \u001b[0;32mIn [38], line 1\u001b[0m\n\u001b[0;32m----> 1\u001b[0m df[\u001b[38;5;124m'\u001b[39m\u001b[38;5;124mapr@OpenLandMap/CLM/CLM_LST_MOD11A2-DAYNIGHT_M/v01\u001b[39m\u001b[38;5;124m'\u001b[39m]\u001b[38;5;241m.\u001b[39mdtypes \u001b[38;5;241m==\u001b[39m \u001b[43mpd\u001b[49m\u001b[38;5;241;43m.\u001b[39;49m\u001b[43mdtype\u001b[49m(\u001b[38;5;124m'\u001b[39m\u001b[38;5;124mfloat64\u001b[39m\u001b[38;5;124m'\u001b[39m)\n",
      "File \u001b[0;32m~/Documents/5 Coterm/CS 330 Multitask & metalearning/Project/.venv/lib/python3.10/site-packages/pandas/__init__.py:264\u001b[0m, in \u001b[0;36m__getattr__\u001b[0;34m(name)\u001b[0m\n\u001b[1;32m    260\u001b[0m     \u001b[38;5;28;01mfrom\u001b[39;00m \u001b[38;5;21;01mpandas\u001b[39;00m\u001b[38;5;21;01m.\u001b[39;00m\u001b[38;5;21;01mcore\u001b[39;00m\u001b[38;5;21;01m.\u001b[39;00m\u001b[38;5;21;01marrays\u001b[39;00m\u001b[38;5;21;01m.\u001b[39;00m\u001b[38;5;21;01msparse\u001b[39;00m \u001b[38;5;28;01mimport\u001b[39;00m SparseArray \u001b[38;5;28;01mas\u001b[39;00m _SparseArray\n\u001b[1;32m    262\u001b[0m     \u001b[38;5;28;01mreturn\u001b[39;00m _SparseArray\n\u001b[0;32m--> 264\u001b[0m \u001b[38;5;28;01mraise\u001b[39;00m \u001b[38;5;167;01mAttributeError\u001b[39;00m(\u001b[38;5;124mf\u001b[39m\u001b[38;5;124m\"\u001b[39m\u001b[38;5;124mmodule \u001b[39m\u001b[38;5;124m'\u001b[39m\u001b[38;5;124mpandas\u001b[39m\u001b[38;5;124m'\u001b[39m\u001b[38;5;124m has no attribute \u001b[39m\u001b[38;5;124m'\u001b[39m\u001b[38;5;132;01m{\u001b[39;00mname\u001b[38;5;132;01m}\u001b[39;00m\u001b[38;5;124m'\u001b[39m\u001b[38;5;124m\"\u001b[39m)\n",
      "\u001b[0;31mAttributeError\u001b[0m: module 'pandas' has no attribute 'dtype'"
     ]
    }
   ],
   "source": [
    "df['apr@OpenLandMap/CLM/CLM_LST_MOD11A2-DAYNIGHT_M/v01'].dtypes == pd.dtype('float64')"
   ]
  },
  {
   "cell_type": "code",
   "execution_count": 23,
   "metadata": {},
   "outputs": [
    {
     "data": {
      "text/plain": [
       "new_ind                                                                   0\n",
       "skin_reservoir_content_max_max@ECMWF/ERA5_LAND/MONTHLY&timestamped        0\n",
       "skin_reservoir_content_max_min@ECMWF/ERA5_LAND/MONTHLY&timestamped        0\n",
       "skin_reservoir_content_min_max@ECMWF/ERA5_LAND/MONTHLY&timestamped        0\n",
       "skin_reservoir_content_min_min@ECMWF/ERA5_LAND/MONTHLY&timestamped        0\n",
       "                                                                      ...  \n",
       "Stunted_Rate                                                              0\n",
       "CCFIPS                                                                 1258\n",
       "URBAN_RURA_y                                                           5164\n",
       "DHSID_y                                                                5164\n",
       "ADM1NAME                                                              15343\n",
       "Length: 11364, dtype: int64"
      ]
     },
     "execution_count": 23,
     "metadata": {},
     "output_type": "execute_result"
    }
   ],
   "source": [
    "df_impute.isna().sum().sort_values()"
   ]
  },
  {
   "cell_type": "code",
   "execution_count": 54,
   "metadata": {},
   "outputs": [
    {
     "data": {
      "text/plain": [
       "0         5.0\n",
       "1         5.0\n",
       "2         5.0\n",
       "3         5.0\n",
       "4         5.0\n",
       "         ... \n",
       "120981    NaN\n",
       "120982    NaN\n",
       "120983    3.0\n",
       "120984    NaN\n",
       "120985    NaN\n",
       "Name: Deep_Blue_Single_Scattering_Albedo_Land_Std_Deviation_Mean_412_min_min@MODIS/061/MOD08_M3&timestamped, Length: 120986, dtype: float64"
      ]
     },
     "execution_count": 54,
     "metadata": {},
     "output_type": "execute_result"
    }
   ],
   "source": [
    "df_impute[\"Deep_Blue_Single_Scattering_Albedo_Land_Std_Deviation_Mean_412_min_min@MODIS/061/MOD08_M3&timestamped\"]"
   ]
  },
  {
   "cell_type": "code",
   "execution_count": 53,
   "metadata": {},
   "outputs": [
    {
     "data": {
      "text/plain": [
       "True"
      ]
     },
     "execution_count": 53,
     "metadata": {},
     "output_type": "execute_result"
    }
   ],
   "source": [
    "\"Deep_Blue_Single_Scattering_Albedo_Land_Std_Deviation_Mean_412_min_min@MODIS/061/MOD08_M3&timestamped\" in df_impute.columns"
   ]
  },
  {
   "cell_type": "code",
   "execution_count": 32,
   "metadata": {},
   "outputs": [],
   "source": [
    "# with open('output.txt', 'w') as f:\n",
    "#     for i in na.items():\n",
    "#         f.write(str(i)+\"\\n\")"
   ]
  },
  {
   "cell_type": "code",
   "execution_count": 33,
   "metadata": {},
   "outputs": [
    {
     "data": {
      "image/png": "[encoded data removed]",
      "text/plain": [
       "<Figure size 640x480 with 1 Axes>"
      ]
     },
     "metadata": {},
     "output_type": "display_data"
    }
   ],
   "source": [
    "plt.plot(list(na))\n",
    "plt.ylabel('percent of missing values')\n",
    "plt.show()"
   ]
  },
  {
   "cell_type": "code",
   "execution_count": 4,
   "metadata": {},
   "outputs": [],
   "source": [
    "df[\"country_code\"] = df[\"new_ind\"].str.slice(stop=2)"
   ]
  },
  {
   "cell_type": "code",
   "execution_count": 5,
   "metadata": {},
   "outputs": [
    {
     "data": {
      "text/plain": [
       "1786   NaN\n",
       "1787   NaN\n",
       "1788   NaN\n",
       "1789   NaN\n",
       "1790   NaN\n",
       "        ..\n",
       "2406   NaN\n",
       "2407   NaN\n",
       "2408   NaN\n",
       "2409   NaN\n",
       "2410   NaN\n",
       "Name: Mean_BMI, Length: 625, dtype: float64"
      ]
     },
     "execution_count": 5,
     "metadata": {},
     "output_type": "execute_result"
    }
   ],
   "source": [
    "df[df[\"country_code\"]==\"AO\"][\"Mean_BMI\"]"
   ]
  },
  {
   "cell_type": "code",
   "execution_count": 6,
   "metadata": {},
   "outputs": [
    {
     "data": {
      "text/plain": [
       "<AxesSubplot: >"
      ]
     },
     "execution_count": 6,
     "metadata": {},
     "output_type": "execute_result"
    },
    {
     "data": {
      "image/png": "[encoded data removed]",
      "text/plain": [
       "<Figure size 640x480 with 1 Axes>"
      ]
     },
     "metadata": {},
     "output_type": "display_data"
    }
   ],
   "source": [
    "df[\"Mean_BMI\"].hist(bins=100)"
   ]
  },
  {
   "cell_type": "code",
   "execution_count": 7,
   "metadata": {
    "scrolled": true
   },
   "outputs": [
    {
     "data": {
      "text/plain": [
       "<AxesSubplot: >"
      ]
     },
     "execution_count": 7,
     "metadata": {},
     "output_type": "execute_result"
    },
    {
     "data": {
      "image/png": "[encoded data removed]",
      "text/plain": [
       "<Figure size 640x480 with 1 Axes>"
      ]
     },
     "metadata": {},
     "output_type": "display_data"
    }
   ],
   "source": [
    "df[\"Under5_Mortality_Rate\"].hist(bins=100)"
   ]
  },
  {
   "cell_type": "code",
   "execution_count": 8,
   "metadata": {},
   "outputs": [
    {
     "data": {
      "text/plain": [
       "<AxesSubplot: >"
      ]
     },
     "execution_count": 8,
     "metadata": {},
     "output_type": "execute_result"
    },
    {
     "data": {
      "image/png": "[encoded data removed]",
      "text/plain": [
       "<Figure size 640x480 with 1 Axes>"
      ]
     },
     "metadata": {},
     "output_type": "display_data"
    }
   ],
   "source": [
    "df[\"Stunted_Rate\"].hist(bins=100)"
   ]
  },
  {
   "cell_type": "code",
   "execution_count": 15,
   "metadata": {},
   "outputs": [],
   "source": [
    "counts = df[[\"Mean_BMI\", \"new_ind\", \"country_code\"]].groupby(\"country_code\").count()"
   ]
  },
  {
   "cell_type": "code",
   "execution_count": 20,
   "metadata": {},
   "outputs": [],
   "source": [
    "counts[\"percent\"] = counts[\"Mean_BMI\"]/counts[\"new_ind\"]*100"
   ]
  },
  {
   "cell_type": "code",
   "execution_count": 33,
   "metadata": {},
   "outputs": [
    {
     "data": {
      "text/html": [
       "<div>\n",
       "<style scoped>\n",
       "    .dataframe tbody tr th:only-of-type {\n",
       "        vertical-align: middle;\n",
       "    }\n",
       "\n",
       "    .dataframe tbody tr th {\n",
       "        vertical-align: top;\n",
       "    }\n",
       "\n",
       "    .dataframe thead th {\n",
       "        text-align: right;\n",
       "    }\n",
       "</style>\n",
       "<table border=\"1\" class=\"dataframe\">\n",
       "  <thead>\n",
       "    <tr style=\"text-align: right;\">\n",
       "      <th></th>\n",
       "      <th>Mean_BMI</th>\n",
       "      <th>new_ind</th>\n",
       "      <th>percent</th>\n",
       "    </tr>\n",
       "    <tr>\n",
       "      <th>country_code</th>\n",
       "      <th></th>\n",
       "      <th></th>\n",
       "      <th></th>\n",
       "    </tr>\n",
       "  </thead>\n",
       "  <tbody>\n",
       "    <tr>\n",
       "      <th>AM</th>\n",
       "      <td>313</td>\n",
       "      <td>621</td>\n",
       "      <td>50.402576</td>\n",
       "    </tr>\n",
       "    <tr>\n",
       "      <th>AO</th>\n",
       "      <td>0</td>\n",
       "      <td>625</td>\n",
       "      <td>0.000000</td>\n",
       "    </tr>\n",
       "    <tr>\n",
       "      <th>BD</th>\n",
       "      <td>1922</td>\n",
       "      <td>2922</td>\n",
       "      <td>65.776865</td>\n",
       "    </tr>\n",
       "    <tr>\n",
       "      <th>BJ</th>\n",
       "      <td>995</td>\n",
       "      <td>1752</td>\n",
       "      <td>56.792237</td>\n",
       "    </tr>\n",
       "    <tr>\n",
       "      <th>CF</th>\n",
       "      <td>0</td>\n",
       "      <td>231</td>\n",
       "      <td>0.000000</td>\n",
       "    </tr>\n",
       "    <tr>\n",
       "      <th>CI</th>\n",
       "      <td>482</td>\n",
       "      <td>737</td>\n",
       "      <td>65.400271</td>\n",
       "    </tr>\n",
       "    <tr>\n",
       "      <th>DR</th>\n",
       "      <td>637</td>\n",
       "      <td>3494</td>\n",
       "      <td>18.231254</td>\n",
       "    </tr>\n",
       "    <tr>\n",
       "      <th>GH</th>\n",
       "      <td>1243</td>\n",
       "      <td>2950</td>\n",
       "      <td>42.135593</td>\n",
       "    </tr>\n",
       "    <tr>\n",
       "      <th>ID</th>\n",
       "      <td>0</td>\n",
       "      <td>1392</td>\n",
       "      <td>0.000000</td>\n",
       "    </tr>\n",
       "    <tr>\n",
       "      <th>MD</th>\n",
       "      <td>589</td>\n",
       "      <td>863</td>\n",
       "      <td>68.250290</td>\n",
       "    </tr>\n",
       "    <tr>\n",
       "      <th>MZ</th>\n",
       "      <td>608</td>\n",
       "      <td>1187</td>\n",
       "      <td>51.221567</td>\n",
       "    </tr>\n",
       "    <tr>\n",
       "      <th>NI</th>\n",
       "      <td>0</td>\n",
       "      <td>503</td>\n",
       "      <td>0.000000</td>\n",
       "    </tr>\n",
       "    <tr>\n",
       "      <th>PE</th>\n",
       "      <td>2538</td>\n",
       "      <td>5374</td>\n",
       "      <td>47.227391</td>\n",
       "    </tr>\n",
       "    <tr>\n",
       "      <th>PH</th>\n",
       "      <td>0</td>\n",
       "      <td>2861</td>\n",
       "      <td>0.000000</td>\n",
       "    </tr>\n",
       "    <tr>\n",
       "      <th>PK</th>\n",
       "      <td>560</td>\n",
       "      <td>1533</td>\n",
       "      <td>36.529680</td>\n",
       "    </tr>\n",
       "    <tr>\n",
       "      <th>SN</th>\n",
       "      <td>743</td>\n",
       "      <td>2173</td>\n",
       "      <td>34.192361</td>\n",
       "    </tr>\n",
       "    <tr>\n",
       "      <th>TG</th>\n",
       "      <td>325</td>\n",
       "      <td>771</td>\n",
       "      <td>42.153048</td>\n",
       "    </tr>\n",
       "    <tr>\n",
       "      <th>UZ</th>\n",
       "      <td>0</td>\n",
       "      <td>219</td>\n",
       "      <td>0.000000</td>\n",
       "    </tr>\n",
       "  </tbody>\n",
       "</table>\n",
       "</div>"
      ],
      "text/plain": [
       "              Mean_BMI  new_ind    percent\n",
       "country_code                              \n",
       "AM                 313      621  50.402576\n",
       "AO                   0      625   0.000000\n",
       "BD                1922     2922  65.776865\n",
       "BJ                 995     1752  56.792237\n",
       "CF                   0      231   0.000000\n",
       "CI                 482      737  65.400271\n",
       "DR                 637     3494  18.231254\n",
       "GH                1243     2950  42.135593\n",
       "ID                   0     1392   0.000000\n",
       "MD                 589      863  68.250290\n",
       "MZ                 608     1187  51.221567\n",
       "NI                   0      503   0.000000\n",
       "PE                2538     5374  47.227391\n",
       "PH                   0     2861   0.000000\n",
       "PK                 560     1533  36.529680\n",
       "SN                 743     2173  34.192361\n",
       "TG                 325      771  42.153048\n",
       "UZ                   0      219   0.000000"
      ]
     },
     "execution_count": 33,
     "metadata": {},
     "output_type": "execute_result"
    }
   ],
   "source": [
    "counts[counts[\"percent\"] <70] "
   ]
  },
  {
   "cell_type": "code",
   "execution_count": 30,
   "metadata": {},
   "outputs": [
    {
     "data": {
      "text/html": [
       "<div>\n",
       "<style scoped>\n",
       "    .dataframe tbody tr th:only-of-type {\n",
       "        vertical-align: middle;\n",
       "    }\n",
       "\n",
       "    .dataframe tbody tr th {\n",
       "        vertical-align: top;\n",
       "    }\n",
       "\n",
       "    .dataframe thead th {\n",
       "        text-align: right;\n",
       "    }\n",
       "</style>\n",
       "<table border=\"1\" class=\"dataframe\">\n",
       "  <thead>\n",
       "    <tr style=\"text-align: right;\">\n",
       "      <th></th>\n",
       "      <th>Mean_BMI</th>\n",
       "      <th>new_ind</th>\n",
       "      <th>percent</th>\n",
       "    </tr>\n",
       "    <tr>\n",
       "      <th>country_code</th>\n",
       "      <th></th>\n",
       "      <th></th>\n",
       "      <th></th>\n",
       "    </tr>\n",
       "  </thead>\n",
       "  <tbody>\n",
       "    <tr>\n",
       "      <th>AL</th>\n",
       "      <td>1160</td>\n",
       "      <td>1165</td>\n",
       "      <td>99.570815</td>\n",
       "    </tr>\n",
       "    <tr>\n",
       "      <th>AM</th>\n",
       "      <td>313</td>\n",
       "      <td>621</td>\n",
       "      <td>50.402576</td>\n",
       "    </tr>\n",
       "    <tr>\n",
       "      <th>AO</th>\n",
       "      <td>0</td>\n",
       "      <td>625</td>\n",
       "      <td>0.000000</td>\n",
       "    </tr>\n",
       "    <tr>\n",
       "      <th>BD</th>\n",
       "      <td>1922</td>\n",
       "      <td>2922</td>\n",
       "      <td>65.776865</td>\n",
       "    </tr>\n",
       "    <tr>\n",
       "      <th>BF</th>\n",
       "      <td>1035</td>\n",
       "      <td>1361</td>\n",
       "      <td>76.047024</td>\n",
       "    </tr>\n",
       "    <tr>\n",
       "      <th>BJ</th>\n",
       "      <td>995</td>\n",
       "      <td>1752</td>\n",
       "      <td>56.792237</td>\n",
       "    </tr>\n",
       "    <tr>\n",
       "      <th>BO</th>\n",
       "      <td>999</td>\n",
       "      <td>1001</td>\n",
       "      <td>99.800200</td>\n",
       "    </tr>\n",
       "    <tr>\n",
       "      <th>BU</th>\n",
       "      <td>919</td>\n",
       "      <td>930</td>\n",
       "      <td>98.817204</td>\n",
       "    </tr>\n",
       "    <tr>\n",
       "      <th>CD</th>\n",
       "      <td>829</td>\n",
       "      <td>836</td>\n",
       "      <td>99.162679</td>\n",
       "    </tr>\n",
       "    <tr>\n",
       "      <th>CF</th>\n",
       "      <td>0</td>\n",
       "      <td>231</td>\n",
       "      <td>0.000000</td>\n",
       "    </tr>\n",
       "    <tr>\n",
       "      <th>CI</th>\n",
       "      <td>482</td>\n",
       "      <td>737</td>\n",
       "      <td>65.400271</td>\n",
       "    </tr>\n",
       "    <tr>\n",
       "      <th>CM</th>\n",
       "      <td>1450</td>\n",
       "      <td>1623</td>\n",
       "      <td>89.340727</td>\n",
       "    </tr>\n",
       "    <tr>\n",
       "      <th>CO</th>\n",
       "      <td>4906</td>\n",
       "      <td>4987</td>\n",
       "      <td>98.375777</td>\n",
       "    </tr>\n",
       "    <tr>\n",
       "      <th>DR</th>\n",
       "      <td>637</td>\n",
       "      <td>3494</td>\n",
       "      <td>18.231254</td>\n",
       "    </tr>\n",
       "    <tr>\n",
       "      <th>EG</th>\n",
       "      <td>6223</td>\n",
       "      <td>7845</td>\n",
       "      <td>79.324410</td>\n",
       "    </tr>\n",
       "    <tr>\n",
       "      <th>ET</th>\n",
       "      <td>2296</td>\n",
       "      <td>2313</td>\n",
       "      <td>99.265024</td>\n",
       "    </tr>\n",
       "    <tr>\n",
       "      <th>GA</th>\n",
       "      <td>328</td>\n",
       "      <td>336</td>\n",
       "      <td>97.619048</td>\n",
       "    </tr>\n",
       "    <tr>\n",
       "      <th>GH</th>\n",
       "      <td>1243</td>\n",
       "      <td>2950</td>\n",
       "      <td>42.135593</td>\n",
       "    </tr>\n",
       "    <tr>\n",
       "      <th>GN</th>\n",
       "      <td>984</td>\n",
       "      <td>1289</td>\n",
       "      <td>76.338247</td>\n",
       "    </tr>\n",
       "    <tr>\n",
       "      <th>GU</th>\n",
       "      <td>858</td>\n",
       "      <td>858</td>\n",
       "      <td>100.000000</td>\n",
       "    </tr>\n",
       "    <tr>\n",
       "      <th>GY</th>\n",
       "      <td>324</td>\n",
       "      <td>325</td>\n",
       "      <td>99.692308</td>\n",
       "    </tr>\n",
       "    <tr>\n",
       "      <th>HN</th>\n",
       "      <td>1147</td>\n",
       "      <td>1148</td>\n",
       "      <td>99.912892</td>\n",
       "    </tr>\n",
       "    <tr>\n",
       "      <th>HT</th>\n",
       "      <td>1551</td>\n",
       "      <td>1552</td>\n",
       "      <td>99.935567</td>\n",
       "    </tr>\n",
       "    <tr>\n",
       "      <th>IA</th>\n",
       "      <td>27726</td>\n",
       "      <td>27743</td>\n",
       "      <td>99.938723</td>\n",
       "    </tr>\n",
       "    <tr>\n",
       "      <th>ID</th>\n",
       "      <td>0</td>\n",
       "      <td>1392</td>\n",
       "      <td>0.000000</td>\n",
       "    </tr>\n",
       "    <tr>\n",
       "      <th>JO</th>\n",
       "      <td>1726</td>\n",
       "      <td>2234</td>\n",
       "      <td>77.260519</td>\n",
       "    </tr>\n",
       "    <tr>\n",
       "      <th>KE</th>\n",
       "      <td>2332</td>\n",
       "      <td>2392</td>\n",
       "      <td>97.491639</td>\n",
       "    </tr>\n",
       "    <tr>\n",
       "      <th>KH</th>\n",
       "      <td>2248</td>\n",
       "      <td>2250</td>\n",
       "      <td>99.911111</td>\n",
       "    </tr>\n",
       "    <tr>\n",
       "      <th>KM</th>\n",
       "      <td>252</td>\n",
       "      <td>252</td>\n",
       "      <td>100.000000</td>\n",
       "    </tr>\n",
       "    <tr>\n",
       "      <th>LB</th>\n",
       "      <td>610</td>\n",
       "      <td>776</td>\n",
       "      <td>78.608247</td>\n",
       "    </tr>\n",
       "    <tr>\n",
       "      <th>LS</th>\n",
       "      <td>1181</td>\n",
       "      <td>1204</td>\n",
       "      <td>98.089701</td>\n",
       "    </tr>\n",
       "    <tr>\n",
       "      <th>MA</th>\n",
       "      <td>480</td>\n",
       "      <td>480</td>\n",
       "      <td>100.000000</td>\n",
       "    </tr>\n",
       "    <tr>\n",
       "      <th>MB</th>\n",
       "      <td>800</td>\n",
       "      <td>800</td>\n",
       "      <td>100.000000</td>\n",
       "    </tr>\n",
       "    <tr>\n",
       "      <th>MD</th>\n",
       "      <td>589</td>\n",
       "      <td>863</td>\n",
       "      <td>68.250290</td>\n",
       "    </tr>\n",
       "    <tr>\n",
       "      <th>ML</th>\n",
       "      <td>1541</td>\n",
       "      <td>1867</td>\n",
       "      <td>82.538832</td>\n",
       "    </tr>\n",
       "    <tr>\n",
       "      <th>MM</th>\n",
       "      <td>441</td>\n",
       "      <td>441</td>\n",
       "      <td>100.000000</td>\n",
       "    </tr>\n",
       "    <tr>\n",
       "      <th>MW</th>\n",
       "      <td>2710</td>\n",
       "      <td>2780</td>\n",
       "      <td>97.482014</td>\n",
       "    </tr>\n",
       "    <tr>\n",
       "      <th>MZ</th>\n",
       "      <td>608</td>\n",
       "      <td>1187</td>\n",
       "      <td>51.221567</td>\n",
       "    </tr>\n",
       "    <tr>\n",
       "      <th>NG</th>\n",
       "      <td>3528</td>\n",
       "      <td>3831</td>\n",
       "      <td>92.090838</td>\n",
       "    </tr>\n",
       "    <tr>\n",
       "      <th>NI</th>\n",
       "      <td>0</td>\n",
       "      <td>503</td>\n",
       "      <td>0.000000</td>\n",
       "    </tr>\n",
       "    <tr>\n",
       "      <th>NM</th>\n",
       "      <td>1018</td>\n",
       "      <td>1310</td>\n",
       "      <td>77.709924</td>\n",
       "    </tr>\n",
       "    <tr>\n",
       "      <th>NP</th>\n",
       "      <td>1182</td>\n",
       "      <td>1183</td>\n",
       "      <td>99.915469</td>\n",
       "    </tr>\n",
       "    <tr>\n",
       "      <th>PE</th>\n",
       "      <td>2538</td>\n",
       "      <td>5374</td>\n",
       "      <td>47.227391</td>\n",
       "    </tr>\n",
       "    <tr>\n",
       "      <th>PH</th>\n",
       "      <td>0</td>\n",
       "      <td>2861</td>\n",
       "      <td>0.000000</td>\n",
       "    </tr>\n",
       "    <tr>\n",
       "      <th>PK</th>\n",
       "      <td>560</td>\n",
       "      <td>1533</td>\n",
       "      <td>36.529680</td>\n",
       "    </tr>\n",
       "    <tr>\n",
       "      <th>RW</th>\n",
       "      <td>1431</td>\n",
       "      <td>1695</td>\n",
       "      <td>84.424779</td>\n",
       "    </tr>\n",
       "    <tr>\n",
       "      <th>SL</th>\n",
       "      <td>1336</td>\n",
       "      <td>1364</td>\n",
       "      <td>97.947214</td>\n",
       "    </tr>\n",
       "    <tr>\n",
       "      <th>SN</th>\n",
       "      <td>743</td>\n",
       "      <td>2173</td>\n",
       "      <td>34.192361</td>\n",
       "    </tr>\n",
       "    <tr>\n",
       "      <th>SZ</th>\n",
       "      <td>274</td>\n",
       "      <td>275</td>\n",
       "      <td>99.636364</td>\n",
       "    </tr>\n",
       "    <tr>\n",
       "      <th>TD</th>\n",
       "      <td>610</td>\n",
       "      <td>624</td>\n",
       "      <td>97.756410</td>\n",
       "    </tr>\n",
       "    <tr>\n",
       "      <th>TG</th>\n",
       "      <td>325</td>\n",
       "      <td>771</td>\n",
       "      <td>42.153048</td>\n",
       "    </tr>\n",
       "    <tr>\n",
       "      <th>TJ</th>\n",
       "      <td>722</td>\n",
       "      <td>722</td>\n",
       "      <td>100.000000</td>\n",
       "    </tr>\n",
       "    <tr>\n",
       "      <th>TL</th>\n",
       "      <td>910</td>\n",
       "      <td>910</td>\n",
       "      <td>100.000000</td>\n",
       "    </tr>\n",
       "    <tr>\n",
       "      <th>TZ</th>\n",
       "      <td>608</td>\n",
       "      <td>608</td>\n",
       "      <td>100.000000</td>\n",
       "    </tr>\n",
       "    <tr>\n",
       "      <th>UG</th>\n",
       "      <td>1684</td>\n",
       "      <td>2236</td>\n",
       "      <td>75.313059</td>\n",
       "    </tr>\n",
       "    <tr>\n",
       "      <th>UZ</th>\n",
       "      <td>0</td>\n",
       "      <td>219</td>\n",
       "      <td>0.000000</td>\n",
       "    </tr>\n",
       "    <tr>\n",
       "      <th>ZA</th>\n",
       "      <td>1318</td>\n",
       "      <td>1492</td>\n",
       "      <td>88.337802</td>\n",
       "    </tr>\n",
       "    <tr>\n",
       "      <th>ZM</th>\n",
       "      <td>1746</td>\n",
       "      <td>2306</td>\n",
       "      <td>75.715525</td>\n",
       "    </tr>\n",
       "    <tr>\n",
       "      <th>ZW</th>\n",
       "      <td>1432</td>\n",
       "      <td>1434</td>\n",
       "      <td>99.860530</td>\n",
       "    </tr>\n",
       "  </tbody>\n",
       "</table>\n",
       "</div>"
      ],
      "text/plain": [
       "              Mean_BMI  new_ind     percent\n",
       "country_code                               \n",
       "AL                1160     1165   99.570815\n",
       "AM                 313      621   50.402576\n",
       "AO                   0      625    0.000000\n",
       "BD                1922     2922   65.776865\n",
       "BF                1035     1361   76.047024\n",
       "BJ                 995     1752   56.792237\n",
       "BO                 999     1001   99.800200\n",
       "BU                 919      930   98.817204\n",
       "CD                 829      836   99.162679\n",
       "CF                   0      231    0.000000\n",
       "CI                 482      737   65.400271\n",
       "CM                1450     1623   89.340727\n",
       "CO                4906     4987   98.375777\n",
       "DR                 637     3494   18.231254\n",
       "EG                6223     7845   79.324410\n",
       "ET                2296     2313   99.265024\n",
       "GA                 328      336   97.619048\n",
       "GH                1243     2950   42.135593\n",
       "GN                 984     1289   76.338247\n",
       "GU                 858      858  100.000000\n",
       "GY                 324      325   99.692308\n",
       "HN                1147     1148   99.912892\n",
       "HT                1551     1552   99.935567\n",
       "IA               27726    27743   99.938723\n",
       "ID                   0     1392    0.000000\n",
       "JO                1726     2234   77.260519\n",
       "KE                2332     2392   97.491639\n",
       "KH                2248     2250   99.911111\n",
       "KM                 252      252  100.000000\n",
       "LB                 610      776   78.608247\n",
       "LS                1181     1204   98.089701\n",
       "MA                 480      480  100.000000\n",
       "MB                 800      800  100.000000\n",
       "MD                 589      863   68.250290\n",
       "ML                1541     1867   82.538832\n",
       "MM                 441      441  100.000000\n",
       "MW                2710     2780   97.482014\n",
       "MZ                 608     1187   51.221567\n",
       "NG                3528     3831   92.090838\n",
       "NI                   0      503    0.000000\n",
       "NM                1018     1310   77.709924\n",
       "NP                1182     1183   99.915469\n",
       "PE                2538     5374   47.227391\n",
       "PH                   0     2861    0.000000\n",
       "PK                 560     1533   36.529680\n",
       "RW                1431     1695   84.424779\n",
       "SL                1336     1364   97.947214\n",
       "SN                 743     2173   34.192361\n",
       "SZ                 274      275   99.636364\n",
       "TD                 610      624   97.756410\n",
       "TG                 325      771   42.153048\n",
       "TJ                 722      722  100.000000\n",
       "TL                 910      910  100.000000\n",
       "TZ                 608      608  100.000000\n",
       "UG                1684     2236   75.313059\n",
       "UZ                   0      219    0.000000\n",
       "ZA                1318     1492   88.337802\n",
       "ZM                1746     2306   75.715525\n",
       "ZW                1432     1434   99.860530"
      ]
     },
     "execution_count": 30,
     "metadata": {},
     "output_type": "execute_result"
    }
   ],
   "source": [
    "counts"
   ]
  },
  {
   "cell_type": "code",
   "execution_count": 40,
   "metadata": {},
   "outputs": [
    {
     "data": {
      "text/plain": [
       "Text(0, 0.5, 'Num countries')"
      ]
     },
     "execution_count": 40,
     "metadata": {},
     "output_type": "execute_result"
    },
    {
     "data": {
      "image/png": "[encoded data removed]",
      "text/plain": [
       "<Figure size 640x480 with 1 Axes>"
      ]
     },
     "metadata": {},
     "output_type": "display_data"
    }
   ],
   "source": [
    "ax =  counts[\"percent\"].hist(bins=50)\n",
    "\n",
    "ax.set_xlabel('Percent of DHS data available')\n",
    "ax.set_ylabel('Num countries')"
   ]
  },
  {
   "cell_type": "code",
   "execution_count": 26,
   "metadata": {},
   "outputs": [],
   "source": [
    "df_in = df[df['new_ind'].str.startswith(\"IN\")]"
   ]
  },
  {
   "cell_type": "code",
   "execution_count": 27,
   "metadata": {},
   "outputs": [
    {
     "data": {
      "text/html": [
       "<div>\n",
       "<style scoped>\n",
       "    .dataframe tbody tr th:only-of-type {\n",
       "        vertical-align: middle;\n",
       "    }\n",
       "\n",
       "    .dataframe tbody tr th {\n",
       "        vertical-align: top;\n",
       "    }\n",
       "\n",
       "    .dataframe thead th {\n",
       "        text-align: right;\n",
       "    }\n",
       "</style>\n",
       "<table border=\"1\" class=\"dataframe\">\n",
       "  <thead>\n",
       "    <tr style=\"text-align: right;\">\n",
       "      <th></th>\n",
       "      <th>new_ind</th>\n",
       "      <th>index</th>\n",
       "      <th>ADM1DHS</th>\n",
       "      <th>ADM1FIPS</th>\n",
       "      <th>ADM1FIPSNA</th>\n",
       "      <th>ADM1NAME</th>\n",
       "      <th>ADM1SALBCO</th>\n",
       "      <th>ADM1SALBNA</th>\n",
       "      <th>ADM1SALNA</th>\n",
       "      <th>ALT_DEM</th>\n",
       "      <th>...</th>\n",
       "      <th>LATNUM_y</th>\n",
       "      <th>LONGNUM_y</th>\n",
       "      <th>Mean_BMI</th>\n",
       "      <th>Median_BMI</th>\n",
       "      <th>Unmet_Need_Rate</th>\n",
       "      <th>Under5_Mortality_Rate</th>\n",
       "      <th>Skilled_Birth_Attendant_Rate</th>\n",
       "      <th>Stunted_Rate</th>\n",
       "      <th>Fully_Vaccinated_Children_Rate</th>\n",
       "      <th>URBAN_RURA_y</th>\n",
       "    </tr>\n",
       "  </thead>\n",
       "  <tbody>\n",
       "  </tbody>\n",
       "</table>\n",
       "<p>0 rows × 11959 columns</p>\n",
       "</div>"
      ],
      "text/plain": [
       "Empty DataFrame\n",
       "Columns: [new_ind, index, ADM1DHS, ADM1FIPS, ADM1FIPSNA, ADM1NAME, ADM1SALBCO, ADM1SALBNA, ADM1SALNA, ALT_DEM, ALT_GPS, CCFIPS, DATUM, DHSCC, DHSCLUST_x, DHSID_x, DHSREGCO, DHSREGNA, DHSYEAR_x, F21, F22, F23, LATNUM_x, LONGNUM_x, SOURCE, URBAN_RURA_x, ZONECO, ZONENA, elevation@AHN/AHN2_05M_INT, elevation_max@AHN/AHN2_05M_INT, elevation_min@AHN/AHN2_05M_INT, elevation@AHN/AHN2_05M_NON, elevation_max@AHN/AHN2_05M_NON, elevation_min@AHN/AHN2_05M_NON, elevation@AHN/AHN2_05M_RUW, elevation_max@AHN/AHN2_05M_RUW, elevation_min@AHN/AHN2_05M_RUW, ET_water_median@CAS/IGSNRR/PML/V2&timestamped, Ec_median@CAS/IGSNRR/PML/V2&timestamped, Ei_median@CAS/IGSNRR/PML/V2&timestamped, Es_median@CAS/IGSNRR/PML/V2&timestamped, GPP_median@CAS/IGSNRR/PML/V2&timestamped, qc_median@CAS/IGSNRR/PML/V2&timestamped, ET_water_mean@CAS/IGSNRR/PML/V2&timestamped, Ec_mean@CAS/IGSNRR/PML/V2&timestamped, Ei_mean@CAS/IGSNRR/PML/V2&timestamped, Es_mean@CAS/IGSNRR/PML/V2&timestamped, GPP_mean@CAS/IGSNRR/PML/V2&timestamped, qc_mean@CAS/IGSNRR/PML/V2&timestamped, ET_water_max_max@CAS/IGSNRR/PML/V2&timestamped, ET_water_max_min@CAS/IGSNRR/PML/V2&timestamped, ET_water_min_max@CAS/IGSNRR/PML/V2&timestamped, ET_water_min_min@CAS/IGSNRR/PML/V2&timestamped, Ec_max_max@CAS/IGSNRR/PML/V2&timestamped, Ec_max_min@CAS/IGSNRR/PML/V2&timestamped, Ec_min_max@CAS/IGSNRR/PML/V2&timestamped, Ec_min_min@CAS/IGSNRR/PML/V2&timestamped, Ei_max_max@CAS/IGSNRR/PML/V2&timestamped, Ei_max_min@CAS/IGSNRR/PML/V2&timestamped, Ei_min_max@CAS/IGSNRR/PML/V2&timestamped, Ei_min_min@CAS/IGSNRR/PML/V2&timestamped, Es_max_max@CAS/IGSNRR/PML/V2&timestamped, Es_max_min@CAS/IGSNRR/PML/V2&timestamped, Es_min_max@CAS/IGSNRR/PML/V2&timestamped, Es_min_min@CAS/IGSNRR/PML/V2&timestamped, GPP_max_max@CAS/IGSNRR/PML/V2&timestamped, GPP_max_min@CAS/IGSNRR/PML/V2&timestamped, GPP_min_max@CAS/IGSNRR/PML/V2&timestamped, GPP_min_min@CAS/IGSNRR/PML/V2&timestamped, qc_max_max@CAS/IGSNRR/PML/V2&timestamped, qc_max_min@CAS/IGSNRR/PML/V2&timestamped, qc_min_max@CAS/IGSNRR/PML/V2&timestamped, qc_min_min@CAS/IGSNRR/PML/V2&timestamped, elevation@CGIAR/SRTM90_V4, elevation_max@CGIAR/SRTM90_V4, elevation_min@CGIAR/SRTM90_V4, basic_demographic_characteristics_median@CIESIN/GPWv411/GPW_Basic_Demographic_Characteristics&timestamped, basic_demographic_characteristics_mean@CIESIN/GPWv411/GPW_Basic_Demographic_Characteristics&timestamped, basic_demographic_characteristics_max_max@CIESIN/GPWv411/GPW_Basic_Demographic_Characteristics&timestamped, basic_demographic_characteristics_max_min@CIESIN/GPWv411/GPW_Basic_Demographic_Characteristics&timestamped, basic_demographic_characteristics_min_max@CIESIN/GPWv411/GPW_Basic_Demographic_Characteristics&timestamped, basic_demographic_characteristics_min_min@CIESIN/GPWv411/GPW_Basic_Demographic_Characteristics&timestamped, data_context@CIESIN/GPWv411/GPW_Data_Context, data_context_max@CIESIN/GPWv411/GPW_Data_Context, data_context_min@CIESIN/GPWv411/GPW_Data_Context, land_area@CIESIN/GPWv411/GPW_Land_Area, land_area_max@CIESIN/GPWv411/GPW_Land_Area, land_area_min@CIESIN/GPWv411/GPW_Land_Area, mean_administrative_unit_area@CIESIN/GPWv411/GPW_Mean_Administrative_Unit_Area, mean_administrative_unit_area_max@CIESIN/GPWv411/GPW_Mean_Administrative_Unit_Area, mean_administrative_unit_area_min@CIESIN/GPWv411/GPW_Mean_Administrative_Unit_Area, national_identifier_grid@CIESIN/GPWv411/GPW_National_Identifier_Grid, national_identifier_grid_max@CIESIN/GPWv411/GPW_National_Identifier_Grid, national_identifier_grid_min@CIESIN/GPWv411/GPW_National_Identifier_Grid, population_count_median@CIESIN/GPWv411/GPW_Population_Count&timestamped, population_count_mean@CIESIN/GPWv411/GPW_Population_Count&timestamped, population_count_max_max@CIESIN/GPWv411/GPW_Population_Count&timestamped, population_count_max_min@CIESIN/GPWv411/GPW_Population_Count&timestamped, population_count_min_max@CIESIN/GPWv411/GPW_Population_Count&timestamped, population_count_min_min@CIESIN/GPWv411/GPW_Population_Count&timestamped, ...]\n",
       "Index: []\n",
       "\n",
       "[0 rows x 11959 columns]"
      ]
     },
     "execution_count": 27,
     "metadata": {},
     "output_type": "execute_result"
    }
   ],
   "source": [
    "df_in"
   ]
  },
  {
   "cell_type": "code",
   "execution_count": 13,
   "metadata": {},
   "outputs": [
    {
     "data": {
      "text/plain": [
       "34036"
      ]
     },
     "execution_count": 13,
     "metadata": {},
     "output_type": "execute_result"
    }
   ],
   "source": [
    "df['Under5_Mortality_Rate'].isna().sum()"
   ]
  },
  {
   "cell_type": "code",
   "execution_count": 15,
   "metadata": {},
   "outputs": [
    {
     "data": {
      "text/plain": [
       "0.2813218058287736"
      ]
     },
     "execution_count": 15,
     "metadata": {},
     "output_type": "execute_result"
    }
   ],
   "source": [
    "34036/len(df)"
   ]
  },
  {
   "cell_type": "code",
   "execution_count": 14,
   "metadata": {},
   "outputs": [
    {
     "data": {
      "text/plain": [
       "34036"
      ]
     },
     "execution_count": 14,
     "metadata": {},
     "output_type": "execute_result"
    }
   ],
   "source": [
    "df['Under5_Mortality_Rate'].isna().sum()"
   ]
  },
  {
   "cell_type": "code",
   "execution_count": 20,
   "metadata": {},
   "outputs": [
    {
     "data": {
      "text/html": [
       "<div>\n",
       "<style scoped>\n",
       "    .dataframe tbody tr th:only-of-type {\n",
       "        vertical-align: middle;\n",
       "    }\n",
       "\n",
       "    .dataframe tbody tr th {\n",
       "        vertical-align: top;\n",
       "    }\n",
       "\n",
       "    .dataframe thead th {\n",
       "        text-align: right;\n",
       "    }\n",
       "</style>\n",
       "<table border=\"1\" class=\"dataframe\">\n",
       "  <thead>\n",
       "    <tr style=\"text-align: right;\">\n",
       "      <th></th>\n",
       "      <th>new_ind</th>\n",
       "      <th>index</th>\n",
       "      <th>ADM1DHS</th>\n",
       "      <th>ADM1FIPS</th>\n",
       "      <th>ADM1FIPSNA</th>\n",
       "      <th>ADM1NAME</th>\n",
       "      <th>ADM1SALBCO</th>\n",
       "      <th>ADM1SALBNA</th>\n",
       "      <th>ADM1SALNA</th>\n",
       "      <th>ALT_DEM</th>\n",
       "      <th>...</th>\n",
       "      <th>LATNUM_y</th>\n",
       "      <th>LONGNUM_y</th>\n",
       "      <th>Mean_BMI</th>\n",
       "      <th>Median_BMI</th>\n",
       "      <th>Unmet_Need_Rate</th>\n",
       "      <th>Under5_Mortality_Rate</th>\n",
       "      <th>Skilled_Birth_Attendant_Rate</th>\n",
       "      <th>Stunted_Rate</th>\n",
       "      <th>Fully_Vaccinated_Children_Rate</th>\n",
       "      <th>URBAN_RURA_y</th>\n",
       "    </tr>\n",
       "  </thead>\n",
       "  <tbody>\n",
       "    <tr>\n",
       "      <th>0</th>\n",
       "      <td>AL200800000001</td>\n",
       "      <td>0</td>\n",
       "      <td>9999</td>\n",
       "      <td>None</td>\n",
       "      <td>None</td>\n",
       "      <td>None</td>\n",
       "      <td>None</td>\n",
       "      <td>None</td>\n",
       "      <td>NaN</td>\n",
       "      <td>45.0</td>\n",
       "      <td>...</td>\n",
       "      <td>40.822652</td>\n",
       "      <td>19.838321</td>\n",
       "      <td>24.12</td>\n",
       "      <td>25.28</td>\n",
       "      <td>50.00</td>\n",
       "      <td>9.68</td>\n",
       "      <td>100.00</td>\n",
       "      <td>20.00</td>\n",
       "      <td>NaN</td>\n",
       "      <td>R</td>\n",
       "    </tr>\n",
       "    <tr>\n",
       "      <th>1</th>\n",
       "      <td>AL200800000002</td>\n",
       "      <td>40</td>\n",
       "      <td>9999</td>\n",
       "      <td>None</td>\n",
       "      <td>None</td>\n",
       "      <td>None</td>\n",
       "      <td>None</td>\n",
       "      <td>None</td>\n",
       "      <td>NaN</td>\n",
       "      <td>65.0</td>\n",
       "      <td>...</td>\n",
       "      <td>40.696846</td>\n",
       "      <td>20.007555</td>\n",
       "      <td>23.04</td>\n",
       "      <td>21.98</td>\n",
       "      <td>7.69</td>\n",
       "      <td>8.33</td>\n",
       "      <td>66.67</td>\n",
       "      <td>0.00</td>\n",
       "      <td>NaN</td>\n",
       "      <td>R</td>\n",
       "    </tr>\n",
       "    <tr>\n",
       "      <th>2</th>\n",
       "      <td>AL200800000003</td>\n",
       "      <td>80</td>\n",
       "      <td>9999</td>\n",
       "      <td>None</td>\n",
       "      <td>None</td>\n",
       "      <td>None</td>\n",
       "      <td>None</td>\n",
       "      <td>None</td>\n",
       "      <td>NaN</td>\n",
       "      <td>261.0</td>\n",
       "      <td>...</td>\n",
       "      <td>40.750037</td>\n",
       "      <td>19.974262</td>\n",
       "      <td>22.91</td>\n",
       "      <td>23.47</td>\n",
       "      <td>11.11</td>\n",
       "      <td>0.00</td>\n",
       "      <td>100.00</td>\n",
       "      <td>0.00</td>\n",
       "      <td>NaN</td>\n",
       "      <td>R</td>\n",
       "    </tr>\n",
       "    <tr>\n",
       "      <th>3</th>\n",
       "      <td>AL200800000004</td>\n",
       "      <td>120</td>\n",
       "      <td>9999</td>\n",
       "      <td>None</td>\n",
       "      <td>None</td>\n",
       "      <td>None</td>\n",
       "      <td>None</td>\n",
       "      <td>None</td>\n",
       "      <td>NaN</td>\n",
       "      <td>29.0</td>\n",
       "      <td>...</td>\n",
       "      <td>40.798931</td>\n",
       "      <td>19.863338</td>\n",
       "      <td>26.74</td>\n",
       "      <td>26.57</td>\n",
       "      <td>7.69</td>\n",
       "      <td>2.86</td>\n",
       "      <td>100.00</td>\n",
       "      <td>0.00</td>\n",
       "      <td>NaN</td>\n",
       "      <td>R</td>\n",
       "    </tr>\n",
       "    <tr>\n",
       "      <th>4</th>\n",
       "      <td>AL200800000005</td>\n",
       "      <td>160</td>\n",
       "      <td>9999</td>\n",
       "      <td>None</td>\n",
       "      <td>None</td>\n",
       "      <td>None</td>\n",
       "      <td>None</td>\n",
       "      <td>None</td>\n",
       "      <td>NaN</td>\n",
       "      <td>130.0</td>\n",
       "      <td>...</td>\n",
       "      <td>40.746123</td>\n",
       "      <td>19.843885</td>\n",
       "      <td>24.51</td>\n",
       "      <td>22.60</td>\n",
       "      <td>12.50</td>\n",
       "      <td>0.00</td>\n",
       "      <td>100.00</td>\n",
       "      <td>33.33</td>\n",
       "      <td>NaN</td>\n",
       "      <td>R</td>\n",
       "    </tr>\n",
       "  </tbody>\n",
       "</table>\n",
       "<p>5 rows × 11959 columns</p>\n",
       "</div>"
      ],
      "text/plain": [
       "          new_ind  index  ADM1DHS ADM1FIPS ADM1FIPSNA ADM1NAME ADM1SALBCO  \\\n",
       "0  AL200800000001      0     9999     None       None     None       None   \n",
       "1  AL200800000002     40     9999     None       None     None       None   \n",
       "2  AL200800000003     80     9999     None       None     None       None   \n",
       "3  AL200800000004    120     9999     None       None     None       None   \n",
       "4  AL200800000005    160     9999     None       None     None       None   \n",
       "\n",
       "  ADM1SALBNA  ADM1SALNA  ALT_DEM  ...   LATNUM_y  LONGNUM_y Mean_BMI  \\\n",
       "0       None        NaN     45.0  ...  40.822652  19.838321    24.12   \n",
       "1       None        NaN     65.0  ...  40.696846  20.007555    23.04   \n",
       "2       None        NaN    261.0  ...  40.750037  19.974262    22.91   \n",
       "3       None        NaN     29.0  ...  40.798931  19.863338    26.74   \n",
       "4       None        NaN    130.0  ...  40.746123  19.843885    24.51   \n",
       "\n",
       "  Median_BMI  Unmet_Need_Rate Under5_Mortality_Rate  \\\n",
       "0      25.28            50.00                  9.68   \n",
       "1      21.98             7.69                  8.33   \n",
       "2      23.47            11.11                  0.00   \n",
       "3      26.57             7.69                  2.86   \n",
       "4      22.60            12.50                  0.00   \n",
       "\n",
       "   Skilled_Birth_Attendant_Rate Stunted_Rate  Fully_Vaccinated_Children_Rate  \\\n",
       "0                        100.00        20.00                             NaN   \n",
       "1                         66.67         0.00                             NaN   \n",
       "2                        100.00         0.00                             NaN   \n",
       "3                        100.00         0.00                             NaN   \n",
       "4                        100.00        33.33                             NaN   \n",
       "\n",
       "   URBAN_RURA_y  \n",
       "0             R  \n",
       "1             R  \n",
       "2             R  \n",
       "3             R  \n",
       "4             R  \n",
       "\n",
       "[5 rows x 11959 columns]"
      ]
     },
     "execution_count": 20,
     "metadata": {},
     "output_type": "execute_result"
    }
   ],
   "source": [
    "df.head()"
   ]
  },
  {
   "cell_type": "code",
   "execution_count": null,
   "metadata": {},
   "outputs": [],
   "source": [
    "df[\"URBAN_RURA\"].head()"
   ]
  },
  {
   "cell_type": "code",
   "execution_count": 33,
   "metadata": {},
   "outputs": [
    {
     "data": {
      "text/plain": [
       "0         216.05801\n",
       "1         200.14983\n",
       "2         214.10818\n",
       "3         216.46187\n",
       "4         206.45757\n",
       "            ...    \n",
       "120981    111.36423\n",
       "120982     81.61242\n",
       "120983    136.68535\n",
       "120984    126.11693\n",
       "120985     91.89766\n",
       "Name: walking_only_travel_time_100000, Length: 120986, dtype: float64"
      ]
     },
     "execution_count": 33,
     "metadata": {},
     "output_type": "execute_result"
    }
   ],
   "source": [
    "df[\"walking_only_travel_time_100000\"]"
   ]
  },
  {
   "cell_type": "code",
   "execution_count": 32,
   "metadata": {},
   "outputs": [
    {
     "data": {
      "text/plain": [
       "Index(['walking_only_travel_time_100000',\n",
       "       'motorized_only_friction_surface_100000',\n",
       "       'motorized_only_travel_time_100000', 'key1', 'key2', 'key3',\n",
       "       'Unnamed: 0', 'DHSID_y', 'DHSYEAR_y', 'DHSCLUST_y', 'LATNUM_y',\n",
       "       'LONGNUM_y', 'Mean_BMI', 'Median_BMI', 'Unmet_Need_Rate',\n",
       "       'Under5_Mortality_Rate', 'Skilled_Birth_Attendant_Rate', 'Stunted_Rate',\n",
       "       'Fully_Vaccinated_Children_Rate', 'URBAN_RURA_y'],\n",
       "      dtype='object')"
      ]
     },
     "execution_count": 32,
     "metadata": {},
     "output_type": "execute_result"
    }
   ],
   "source": [
    "df.columns[-20:]"
   ]
  },
  {
   "cell_type": "code",
   "execution_count": 2,
   "metadata": {},
   "outputs": [
    {
     "name": "stderr",
     "output_type": "stream",
     "text": [
      "2022-10-28 01:37:22.830389: I tensorflow/core/platform/cpu_feature_guard.cc:193] This TensorFlow binary is optimized with oneAPI Deep Neural Network Library (oneDNN) to use the following CPU instructions in performance-critical operations:  AVX2 FMA\n",
      "To enable them in other operations, rebuild TensorFlow with the appropriate compiler flags.\n"
     ]
    }
   ],
   "source": [
    "filenames = [\"AL2008_2008_0.tfrecord\"]\n",
    "raw_dataset = tf.data.TFRecordDataset(filenames)"
   ]
  },
  {
   "cell_type": "code",
   "execution_count": 3,
   "metadata": {},
   "outputs": [],
   "source": [
    "a = next(iter(raw_dataset.take(1)))\n",
    "# for raw_record in raw_dataset.take(1):\n",
    "#     a = raw_record"
   ]
  },
  {
   "cell_type": "code",
   "execution_count": 4,
   "metadata": {},
   "outputs": [],
   "source": [
    "tmp = a.numpy()"
   ]
  },
  {
   "cell_type": "code",
   "execution_count": 5,
   "metadata": {},
   "outputs": [
    {
     "data": {
      "text/plain": [
       "bytes"
      ]
     },
     "execution_count": 5,
     "metadata": {},
     "output_type": "execute_result"
    }
   ],
   "source": [
    "type(tmp)"
   ]
  },
  {
   "cell_type": "code",
   "execution_count": 7,
   "metadata": {},
   "outputs": [
    {
     "ename": "UnidentifiedImageError",
     "evalue": "cannot identify image file <_io.BytesIO object at 0x12e2a6b60>",
     "output_type": "error",
     "traceback": [
      "\u001b[0;31m---------------------------------------------------------------------------\u001b[0m",
      "\u001b[0;31mUnidentifiedImageError\u001b[0m                    Traceback (most recent call last)",
      "Cell \u001b[0;32mIn [7], line 14\u001b[0m\n\u001b[1;32m      9\u001b[0m \u001b[38;5;66;03m# r_data = binascii.unhexlify(data)\u001b[39;00m\n\u001b[1;32m     10\u001b[0m \u001b[38;5;66;03m#r_data = \"\".unhexlify(chr(int(b_data[i:i+2],16)) for i in range(0, len(b_data),2))\u001b[39;00m\n\u001b[1;32m     12\u001b[0m stream \u001b[38;5;241m=\u001b[39m io\u001b[38;5;241m.\u001b[39mBytesIO(data)\n\u001b[0;32m---> 14\u001b[0m img \u001b[38;5;241m=\u001b[39m \u001b[43mImage\u001b[49m\u001b[38;5;241;43m.\u001b[39;49m\u001b[43mopen\u001b[49m\u001b[43m(\u001b[49m\u001b[43mstream\u001b[49m\u001b[43m)\u001b[49m\n\u001b[1;32m     15\u001b[0m draw \u001b[38;5;241m=\u001b[39m ImageDraw\u001b[38;5;241m.\u001b[39mDraw(img)\n\u001b[1;32m     16\u001b[0m font \u001b[38;5;241m=\u001b[39m ImageFont\u001b[38;5;241m.\u001b[39mtruetype(\u001b[38;5;124m\"\u001b[39m\u001b[38;5;124marial.ttf\u001b[39m\u001b[38;5;124m\"\u001b[39m,\u001b[38;5;241m14\u001b[39m)\n",
      "File \u001b[0;32m~/Documents/5 Coterm/CS 330 Multitask & metalearning/Project/.venv/lib/python3.10/site-packages/PIL/Image.py:3147\u001b[0m, in \u001b[0;36mopen\u001b[0;34m(fp, mode, formats)\u001b[0m\n\u001b[1;32m   3145\u001b[0m \u001b[38;5;28;01mfor\u001b[39;00m message \u001b[38;5;129;01min\u001b[39;00m accept_warnings:\n\u001b[1;32m   3146\u001b[0m     warnings\u001b[38;5;241m.\u001b[39mwarn(message)\n\u001b[0;32m-> 3147\u001b[0m \u001b[38;5;28;01mraise\u001b[39;00m UnidentifiedImageError(\n\u001b[1;32m   3148\u001b[0m     \u001b[38;5;124m\"\u001b[39m\u001b[38;5;124mcannot identify image file \u001b[39m\u001b[38;5;132;01m%r\u001b[39;00m\u001b[38;5;124m\"\u001b[39m \u001b[38;5;241m%\u001b[39m (filename \u001b[38;5;28;01mif\u001b[39;00m filename \u001b[38;5;28;01melse\u001b[39;00m fp)\n\u001b[1;32m   3149\u001b[0m )\n",
      "\u001b[0;31mUnidentifiedImageError\u001b[0m: cannot identify image file <_io.BytesIO object at 0x12e2a6b60>"
     ]
    }
   ],
   "source": [
    "from PIL import Image\n",
    "from PIL import ImageDraw\n",
    "from PIL import ImageFont\n",
    "import urllib.request\n",
    "import io\n",
    "import binascii\n",
    "\n",
    "data = tmp\n",
    "# r_data = binascii.unhexlify(data)\n",
    "#r_data = \"\".unhexlify(chr(int(b_data[i:i+2],16)) for i in range(0, len(b_data),2))\n",
    "\n",
    "stream = io.BytesIO(data)\n",
    "\n",
    "img = Image.open(stream)\n",
    "draw = ImageDraw.Draw(img)\n",
    "font = ImageFont.truetype(\"arial.ttf\",14)\n",
    "draw.text((0, 220),\"This is a test11\",(255,255,0),font=font)\n",
    "draw = ImageDraw.Draw(img)\n",
    "img.save(\"a_test.png\")"
   ]
  },
  {
   "cell_type": "code",
   "execution_count": null,
   "metadata": {},
   "outputs": [],
   "source": []
  }
 ],
 "metadata": {
  "kernelspec": {
   "display_name": "Python 3 (ipykernel)",
   "language": "python",
   "name": "python3"
  },
  "language_info": {
   "codemirror_mode": {
    "name": "ipython",
    "version": 3
   },
   "file_extension": ".py",
   "mimetype": "text/x-python",
   "name": "python",
   "nbconvert_exporter": "python",
   "pygments_lexer": "ipython3",
   "version": "3.10.7 (v3.10.7:6cc6b13308, Sep  5 2022, 14:02:52) [Clang 13.0.0 (clang-1300.0.29.30)]"
  },
  "vscode": {
   "interpreter": {
    "hash": "203dd7d81855606d4495c07f8242344f31ea633c4c4291aba698e950bde37c67"
   }
  }
 },
 "nbformat": 4,
 "nbformat_minor": 2
}
